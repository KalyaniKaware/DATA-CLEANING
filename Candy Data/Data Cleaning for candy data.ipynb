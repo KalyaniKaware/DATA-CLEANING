{
 "cells": [
  {
   "cell_type": "markdown",
   "metadata": {},
   "source": [
    "# Part 1 - Data Cleaning"
   ]
  },
  {
   "cell_type": "markdown",
   "metadata": {},
   "source": [
    "## 1 Importing packages"
   ]
  },
  {
   "cell_type": "code",
   "execution_count": 1,
   "metadata": {},
   "outputs": [],
   "source": [
    "import numpy as np\n",
    "import pandas as pd"
   ]
  },
  {
   "cell_type": "markdown",
   "metadata": {},
   "source": [
    "## 2 Read file and explore"
   ]
  },
  {
   "cell_type": "markdown",
   "metadata": {},
   "source": [
    "About Data:\n",
    "\n",
    "* Data is about a 12 questions survey for candies during Halloween.\n",
    "* Q1 is if the surveyee is going to trick or treat himself\n",
    "* Q6 is specific to a type of candy and how the surveyee finds it (JOY, DESPAIT, NEUTRAL)\n",
    "* Q7 is other candy thats gives JOY to surveyee not mentioned in Q6 list\n",
    "* Q8 is other candy thats gives DESPAIR to surveyee not mentioned in Q6 list\n",
    "* Q10 is what color of the dress does the surveyee sees in first glance (black-blue OR white/golden)\n",
    "* Q11 is what day surveyee likes? Friday OR Sunday\n",
    "* Q12 is a Media question of a website that the suveyee would most likely check followed by co-ordinates of click.\n",
    "\n",
    "*The data is taken from https://www.scq.ubc.ca/so-much-candy-data-seriously/*"
   ]
  },
  {
   "cell_type": "code",
   "execution_count": 2,
   "metadata": {},
   "outputs": [],
   "source": [
    "candy = pd.read_csv('candyhierarchy2017.csv', header = 0, index_col = 0, na_values = '', encoding = 'ANSI')"
   ]
  },
  {
   "cell_type": "markdown",
   "metadata": {},
   "source": [
    "## 3 Partial columns renaming"
   ]
  },
  {
   "cell_type": "code",
   "execution_count": 3,
   "metadata": {
    "scrolled": true
   },
   "outputs": [
    {
     "data": {
      "text/plain": [
       "Index(['Q1: GOING OUT?', 'Q2: GENDER', 'Q3: AGE', 'Q4: COUNTRY',\n",
       "       'Q5: STATE, PROVINCE, COUNTY, ETC', 'Q6 | 100 Grand Bar',\n",
       "       'Q6 | Anonymous brown globs that come in black and orange wrappers\\t(a.k.a. Mary Janes)',\n",
       "       'Q6 | Any full-sized candy bar', 'Q6 | Black Jacks',\n",
       "       'Q6 | Bonkers (the candy)',\n",
       "       ...\n",
       "       'Q8: DESPAIR OTHER', 'Q9: OTHER COMMENTS', 'Q10: DRESS', 'Unnamed: 113',\n",
       "       'Q11: DAY', 'Q12: MEDIA [Daily Dish]', 'Q12: MEDIA [Science]',\n",
       "       'Q12: MEDIA [ESPN]', 'Q12: MEDIA [Yahoo]', 'Click Coordinates (x, y)'],\n",
       "      dtype='object', length=119)"
      ]
     },
     "execution_count": 3,
     "metadata": {},
     "output_type": "execute_result"
    }
   ],
   "source": [
    "candy.columns"
   ]
  },
  {
   "cell_type": "code",
   "execution_count": 4,
   "metadata": {},
   "outputs": [],
   "source": [
    "candy = candy.rename(columns = {'Q1: GOING OUT?' : 'going_out', 'Q2: GENDER' : 'gender', 'Q3: AGE': 'age', 'Q4: COUNTRY' : 'country',\n",
    "       'Q5: STATE, PROVINCE, COUNTY, ETC' : 'area', 'Q10: DRESS' : 'dress', 'Q11: DAY': 'day',\n",
    "       'Q12: MEDIA [Daily Dish]' : 'media_DailyDish', 'Q12: MEDIA [Science]': 'media_Science', 'Q12: MEDIA [ESPN]' : 'media_ESPN',\n",
    "       'Q12: MEDIA [Yahoo]': 'media_Yahoo'})"
   ]
  },
  {
   "cell_type": "code",
   "execution_count": 5,
   "metadata": {},
   "outputs": [
    {
     "data": {
      "text/plain": [
       "Index(['going_out', 'gender', 'age', 'country', 'area', 'Q6 | 100 Grand Bar',\n",
       "       'Q6 | Anonymous brown globs that come in black and orange wrappers\\t(a.k.a. Mary Janes)',\n",
       "       'Q6 | Any full-sized candy bar', 'Q6 | Black Jacks',\n",
       "       'Q6 | Bonkers (the candy)',\n",
       "       ...\n",
       "       'Q8: DESPAIR OTHER', 'Q9: OTHER COMMENTS', 'dress', 'Unnamed: 113',\n",
       "       'day', 'media_DailyDish', 'media_Science', 'media_ESPN', 'media_Yahoo',\n",
       "       'Click Coordinates (x, y)'],\n",
       "      dtype='object', length=119)"
      ]
     },
     "execution_count": 5,
     "metadata": {},
     "output_type": "execute_result"
    }
   ],
   "source": [
    "candy.columns"
   ]
  },
  {
   "cell_type": "code",
   "execution_count": 6,
   "metadata": {},
   "outputs": [
    {
     "data": {
      "text/plain": [
       "array([nan,\n",
       "       'dress (https://survey.ubc.ca/media/assets/user/14372/storage/dress.png)'],\n",
       "      dtype=object)"
      ]
     },
     "execution_count": 6,
     "metadata": {},
     "output_type": "execute_result"
    }
   ],
   "source": [
    "candy['Unnamed: 113'].unique()"
   ]
  },
  {
   "cell_type": "code",
   "execution_count": 7,
   "metadata": {},
   "outputs": [],
   "source": [
    "candy.drop(columns = ['Unnamed: 113', 'Click Coordinates (x, y)'], inplace = True)"
   ]
  },
  {
   "cell_type": "code",
   "execution_count": 8,
   "metadata": {},
   "outputs": [
    {
     "data": {
      "text/plain": [
       "(2460, 117)"
      ]
     },
     "execution_count": 8,
     "metadata": {},
     "output_type": "execute_result"
    }
   ],
   "source": [
    "candy.shape"
   ]
  },
  {
   "cell_type": "markdown",
   "metadata": {},
   "source": [
    "## 4 Handling null values"
   ]
  },
  {
   "cell_type": "markdown",
   "metadata": {},
   "source": [
    "I found a better way of handling nulls later. (Patched that code and commenting this one out)\n",
    "\n",
    "'''\n",
    "candy.shape\n",
    "\n",
    "candy = candy.dropna(how = 'all')\n",
    "\n",
    "candy = candy.dropna(thresh = 5, axis = 0) # I want at least 5 non-NaN values.\n",
    "\n",
    "candy.drop(['Unnamed: 113','Click Coordinates (x, y)'], axis = 1, inplace = True)\n",
    "\n",
    "'''"
   ]
  },
  {
   "cell_type": "code",
   "execution_count": 9,
   "metadata": {},
   "outputs": [],
   "source": [
    "candy.dropna(subset = ['going_out', 'gender', 'age', 'country', 'area'], how = 'all', inplace = True)\n",
    "candy.reset_index(drop = True, inplace = True)"
   ]
  },
  {
   "cell_type": "code",
   "execution_count": 10,
   "metadata": {},
   "outputs": [
    {
     "data": {
      "text/plain": [
       "(2435, 117)"
      ]
     },
     "execution_count": 10,
     "metadata": {},
     "output_type": "execute_result"
    }
   ],
   "source": [
    "candy.shape"
   ]
  },
  {
   "cell_type": "markdown",
   "metadata": {},
   "source": [
    "## 5 Formating columns"
   ]
  },
  {
   "cell_type": "markdown",
   "metadata": {},
   "source": [
    "### going out column"
   ]
  },
  {
   "cell_type": "code",
   "execution_count": 11,
   "metadata": {},
   "outputs": [
    {
     "data": {
      "text/plain": [
       "array(['No', 'Not Sure', 'Yes'], dtype=object)"
      ]
     },
     "execution_count": 11,
     "metadata": {},
     "output_type": "execute_result"
    }
   ],
   "source": [
    "candy.going_out = candy.going_out.fillna('Not Sure')\n",
    "candy.going_out.unique()"
   ]
  },
  {
   "cell_type": "markdown",
   "metadata": {},
   "source": [
    "### gender column"
   ]
  },
  {
   "cell_type": "code",
   "execution_count": 12,
   "metadata": {},
   "outputs": [
    {
     "data": {
      "text/plain": [
       "Male                  1467\n",
       "Female                 839\n",
       "I'd rather not say      83\n",
       "Other                   30\n",
       "Name: gender, dtype: int64"
      ]
     },
     "execution_count": 12,
     "metadata": {},
     "output_type": "execute_result"
    }
   ],
   "source": [
    "candy.gender.value_counts()"
   ]
  },
  {
   "cell_type": "code",
   "execution_count": 13,
   "metadata": {},
   "outputs": [
    {
     "data": {
      "text/plain": [
       "(83, 117)"
      ]
     },
     "execution_count": 13,
     "metadata": {},
     "output_type": "execute_result"
    }
   ],
   "source": [
    "# Adding 11 NaN genders to type 3 - I'd rather not say seems to be the closest to unknown\n",
    "candy[candy.gender == \"I'd rather not say\"].shape  #checking for spaces in text - found none"
   ]
  },
  {
   "cell_type": "code",
   "execution_count": 14,
   "metadata": {},
   "outputs": [
    {
     "data": {
      "text/plain": [
       "Male                  1467\n",
       "Female                 839\n",
       "I'd rather not say      99\n",
       "Other                   30\n",
       "Name: gender, dtype: int64"
      ]
     },
     "execution_count": 14,
     "metadata": {},
     "output_type": "execute_result"
    }
   ],
   "source": [
    "candy.gender = candy.gender.fillna(\"I'd rather not say\")\n",
    "candy.gender.value_counts()"
   ]
  },
  {
   "cell_type": "markdown",
   "metadata": {},
   "source": [
    "### country column"
   ]
  },
  {
   "cell_type": "code",
   "execution_count": 15,
   "metadata": {},
   "outputs": [
    {
     "data": {
      "text/plain": [
       "array(['USA ', 'USA', 'us', 'usa', nan, 'canada', 'Canada', 'Us', 'US',\n",
       "       'Murica', 'United States', 'uk', 'United Kingdom', 'united states',\n",
       "       'Usa', 'United States ', 'United staes',\n",
       "       'United States of America', 'UAE', 'England', 'UK', 'canada ',\n",
       "       'Mexico', 'United states', 'u.s.a.', 'USAUSAUSA', 'america', '35',\n",
       "       'france', 'United States of America ', 'U.S.A.', 'finland',\n",
       "       'unhinged states', 'Canada ', 'united states of america',\n",
       "       'US of A', 'Unites States', 'The United States', 'North Carolina ',\n",
       "       'Unied States', 'Netherlands', 'germany', 'Europe', 'Earth', 'U S',\n",
       "       'u.s.', 'U.K. ', 'Costa Rica', 'The United States of America',\n",
       "       'unite states', 'U.S.', '46', 'cascadia', 'Australia',\n",
       "       'insanity lately', 'Greece', 'USA? Hard to tell anymore..',\n",
       "       \"'merica\", 'usas', 'Pittsburgh', '45', 'United State', '32',\n",
       "       'France', 'australia', 'A', 'Can', 'Canae', 'New York',\n",
       "       'Trumpistan', 'Ireland', 'United Sates', 'Korea', 'California',\n",
       "       'Japan', 'USa', 'South africa',\n",
       "       'I pretend to be from Canada, but I am really from the United States.',\n",
       "       'Usa ', 'Uk', 'Iceland', 'Germany', 'Canada`', 'Scotland', 'UK ',\n",
       "       'Denmark', 'United Stated', 'France ', 'Switzerland',\n",
       "       'Ahem....Amerca', 'UD', 'Scotland ', 'South Korea', 'New Jersey',\n",
       "       'CANADA', 'Indonesia', 'United ststes', 'America',\n",
       "       'The Netherlands', 'United Statss', 'endland', 'Atlantis',\n",
       "       'murrika', 'USA! USA! USA!', 'USAA', 'Alaska', 'united States ',\n",
       "       'soviet canuckistan', 'N. America', 'Singapore', 'USSA', 'China',\n",
       "       'Taiwan', 'Ireland ', 'hong kong', 'spain', 'Sweden', 'Hong Kong',\n",
       "       'U.S. ', 'Narnia', 'u s a', 'United Statea', 'united ststes', '1',\n",
       "       'subscribe to dm4uz3 on youtube', 'United kingdom',\n",
       "       'USA USA USA!!!!', \"I don't know anymore\", 'Fear and Loathing'],\n",
       "      dtype=object)"
      ]
     },
     "execution_count": 15,
     "metadata": {},
     "output_type": "execute_result"
    }
   ],
   "source": [
    "candy.country.unique()"
   ]
  },
  {
   "cell_type": "markdown",
   "metadata": {},
   "source": [
    "People are so creative !!"
   ]
  },
  {
   "cell_type": "code",
   "execution_count": 16,
   "metadata": {},
   "outputs": [
    {
     "data": {
      "text/plain": [
       "USA                               699\n",
       "United States                     497\n",
       "usa                               217\n",
       "Canada                            179\n",
       "Usa                               139\n",
       "US                                126\n",
       "USA                                73\n",
       "United States of America           57\n",
       "us                                 40\n",
       "NaN                                39\n",
       "united states                      38\n",
       "United States                      37\n",
       "canada                             34\n",
       "United states                      19\n",
       "Us                                 16\n",
       "UK                                 13\n",
       "United Kingdom                     13\n",
       "United States of America           11\n",
       "Canada                              8\n",
       "U.S.                                8\n",
       "U.S.A.                              7\n",
       "Germany                             7\n",
       "Netherlands                         6\n",
       "Australia                           5\n",
       "Japan                               5\n",
       "united states of america            5\n",
       "Scotland                            4\n",
       "Unites States                       4\n",
       "Mexico                              4\n",
       "US of A                             4\n",
       "                                 ... \n",
       "USSA                                1\n",
       "New York                            1\n",
       "United kingdom                      1\n",
       "canada                              1\n",
       "United Sates                        1\n",
       "insanity lately                     1\n",
       "USAUSAUSA                           1\n",
       "spain                               1\n",
       "UD                                  1\n",
       "Ireland                             1\n",
       "endland                             1\n",
       "UK                                  1\n",
       "cascadia                            1\n",
       "Hong Kong                           1\n",
       "The Netherlands                     1\n",
       "Narnia                              1\n",
       "Fear and Loathing                   1\n",
       "A                                   1\n",
       "subscribe to dm4uz3 on youtube      1\n",
       "'merica                             1\n",
       "South Korea                         1\n",
       "USAA                                1\n",
       "Costa Rica                          1\n",
       "usas                                1\n",
       "North Carolina                      1\n",
       "32                                  1\n",
       "United ststes                       1\n",
       "U.S.                                1\n",
       "Canada`                             1\n",
       "USA? Hard to tell anymore..         1\n",
       "Name: country, Length: 129, dtype: int64"
      ]
     },
     "execution_count": 16,
     "metadata": {},
     "output_type": "execute_result"
    }
   ],
   "source": [
    "candy.country.value_counts(dropna = False).sort_values(ascending = False)"
   ]
  },
  {
   "cell_type": "code",
   "execution_count": 17,
   "metadata": {},
   "outputs": [
    {
     "data": {
      "text/plain": [
       "39"
      ]
     },
     "execution_count": 17,
     "metadata": {},
     "output_type": "execute_result"
    }
   ],
   "source": [
    "candy.country.isna().sum()"
   ]
  },
  {
   "cell_type": "code",
   "execution_count": 18,
   "metadata": {},
   "outputs": [],
   "source": [
    "candy.country = candy.country.fillna('Unknown')"
   ]
  },
  {
   "cell_type": "code",
   "execution_count": 19,
   "metadata": {},
   "outputs": [
    {
     "data": {
      "text/plain": [
       "{'Australia',\n",
       " 'Europe',\n",
       " 'I pretend to be from Canada, but I am really from the United States.',\n",
       " 'Murica',\n",
       " 'Pittsburgh',\n",
       " 'South Korea',\n",
       " 'South africa',\n",
       " 'Trumpistan',\n",
       " 'australia',\n",
       " 'murrika',\n",
       " 'soviet canuckistan',\n",
       " 'subscribe to dm4uz3 on youtube',\n",
       " 'u s a',\n",
       " 'u.s.',\n",
       " 'u.s.a.',\n",
       " 'uk',\n",
       " 'unhinged states',\n",
       " 'unite states',\n",
       " 'united States ',\n",
       " 'united states',\n",
       " 'united states of america',\n",
       " 'united ststes',\n",
       " 'us',\n",
       " 'usa',\n",
       " 'usas'}"
      ]
     },
     "execution_count": 19,
     "metadata": {},
     "output_type": "execute_result"
    }
   ],
   "source": [
    "set([x for x in candy.country if 'u' in x])  # unique values with 'u'"
   ]
  },
  {
   "cell_type": "code",
   "execution_count": 20,
   "metadata": {},
   "outputs": [],
   "source": [
    "USA = [x for x in candy.country if (('u' in x or 'U' in x) and 'ingdom' not in x\\\n",
    "     and 'urope' not in x and 'stralia' not in x and 'South Korea' not in x and 'South africa' not in x and 'uk' not in x)]"
   ]
  },
  {
   "cell_type": "code",
   "execution_count": 21,
   "metadata": {},
   "outputs": [],
   "source": [
    "candy.country = candy.country.replace(to_replace = USA, value = 'USA')"
   ]
  },
  {
   "cell_type": "code",
   "execution_count": 22,
   "metadata": {},
   "outputs": [
    {
     "data": {
      "text/plain": [
       "array(['USA', 'canada', 'Canada', 'uk', 'United Kingdom', 'England',\n",
       "       'canada ', 'Mexico', 'america', '35', 'france', 'finland',\n",
       "       'Canada ', 'North Carolina ', 'Netherlands', 'germany', 'Europe',\n",
       "       'Earth', 'Costa Rica', '46', 'cascadia', 'Australia',\n",
       "       'insanity lately', 'Greece', \"'merica\", '45', '32', 'France',\n",
       "       'australia', 'A', 'Can', 'Canae', 'New York', 'Ireland', 'Korea',\n",
       "       'California', 'Japan', 'South africa', 'Iceland', 'Germany',\n",
       "       'Canada`', 'Scotland', 'Denmark', 'France ', 'Switzerland',\n",
       "       'Ahem....Amerca', 'Scotland ', 'South Korea', 'New Jersey',\n",
       "       'CANADA', 'Indonesia', 'America', 'The Netherlands', 'endland',\n",
       "       'Atlantis', 'Alaska', 'N. America', 'Singapore', 'China', 'Taiwan',\n",
       "       'Ireland ', 'hong kong', 'spain', 'Sweden', 'Hong Kong', 'Narnia',\n",
       "       '1', 'United kingdom', \"I don't know anymore\", 'Fear and Loathing'],\n",
       "      dtype=object)"
      ]
     },
     "execution_count": 22,
     "metadata": {},
     "output_type": "execute_result"
    }
   ],
   "source": [
    "candy.country.unique()"
   ]
  },
  {
   "cell_type": "code",
   "execution_count": 23,
   "metadata": {},
   "outputs": [],
   "source": [
    "candy.country = candy.country.replace(to_replace = ['america','Ahem....Amerca',\"'merica\",'North Carolina ','cascadia',\\\n",
    "                                                   'New York','A','California','New Jersey','America','Alaska',\\\n",
    "                                                    'N. America'], value = 'USA')"
   ]
  },
  {
   "cell_type": "code",
   "execution_count": 24,
   "metadata": {},
   "outputs": [],
   "source": [
    "canada = [x for x in candy.country if 'anada' in x.strip() or 'ANADA' in x or 'Can' in x]"
   ]
  },
  {
   "cell_type": "code",
   "execution_count": 25,
   "metadata": {},
   "outputs": [],
   "source": [
    "candy.country = candy.country.replace(to_replace = canada, value = 'Canada')"
   ]
  },
  {
   "cell_type": "code",
   "execution_count": 26,
   "metadata": {},
   "outputs": [
    {
     "data": {
      "text/plain": [
       "USA                     2111\n",
       "Canada                   227\n",
       "United Kingdom            13\n",
       "Germany                    7\n",
       "Netherlands                6\n",
       "Japan                      5\n",
       "Australia                  5\n",
       "Scotland                   4\n",
       "Mexico                     4\n",
       "germany                    3\n",
       "Ireland                    3\n",
       "Switzerland                3\n",
       "Sweden                     2\n",
       "uk                         2\n",
       "Denmark                    2\n",
       "China                      2\n",
       "australia                  2\n",
       "Hong Kong                  1\n",
       "Korea                      1\n",
       "1                          1\n",
       "Europe                     1\n",
       "United kingdom             1\n",
       "endland                    1\n",
       "insanity lately            1\n",
       "finland                    1\n",
       "Fear and Loathing          1\n",
       "Costa Rica                 1\n",
       "france                     1\n",
       "hong kong                  1\n",
       "45                         1\n",
       "England                    1\n",
       "35                         1\n",
       "Scotland                   1\n",
       "France                     1\n",
       "Atlantis                   1\n",
       "Singapore                  1\n",
       "Indonesia                  1\n",
       "The Netherlands            1\n",
       "Narnia                     1\n",
       "Ireland                    1\n",
       "32                         1\n",
       "South Korea                1\n",
       "Earth                      1\n",
       "Taiwan                     1\n",
       "46                         1\n",
       "France                     1\n",
       "I don't know anymore       1\n",
       "South africa               1\n",
       "Greece                     1\n",
       "Iceland                    1\n",
       "spain                      1\n",
       "Name: country, dtype: int64"
      ]
     },
     "execution_count": 26,
     "metadata": {},
     "output_type": "execute_result"
    }
   ],
   "source": [
    "candy.country.value_counts()"
   ]
  },
  {
   "cell_type": "code",
   "execution_count": 27,
   "metadata": {},
   "outputs": [],
   "source": [
    "other = [x for x in candy.country.unique()]"
   ]
  },
  {
   "cell_type": "code",
   "execution_count": 28,
   "metadata": {},
   "outputs": [],
   "source": [
    "other.remove('USA')\n",
    "other.remove('Canada')"
   ]
  },
  {
   "cell_type": "code",
   "execution_count": 29,
   "metadata": {},
   "outputs": [
    {
     "data": {
      "text/plain": [
       "['uk',\n",
       " 'United Kingdom',\n",
       " 'England',\n",
       " 'Mexico',\n",
       " '35',\n",
       " 'france',\n",
       " 'finland',\n",
       " 'Netherlands',\n",
       " 'germany',\n",
       " 'Europe',\n",
       " 'Earth',\n",
       " 'Costa Rica',\n",
       " '46',\n",
       " 'Australia',\n",
       " 'insanity lately',\n",
       " 'Greece',\n",
       " '45',\n",
       " '32',\n",
       " 'France',\n",
       " 'australia',\n",
       " 'Ireland',\n",
       " 'Korea',\n",
       " 'Japan',\n",
       " 'South africa',\n",
       " 'Iceland',\n",
       " 'Germany',\n",
       " 'Scotland',\n",
       " 'Denmark',\n",
       " 'France ',\n",
       " 'Switzerland',\n",
       " 'Scotland ',\n",
       " 'South Korea',\n",
       " 'Indonesia',\n",
       " 'The Netherlands',\n",
       " 'endland',\n",
       " 'Atlantis',\n",
       " 'Singapore',\n",
       " 'China',\n",
       " 'Taiwan',\n",
       " 'Ireland ',\n",
       " 'hong kong',\n",
       " 'spain',\n",
       " 'Sweden',\n",
       " 'Hong Kong',\n",
       " 'Narnia',\n",
       " '1',\n",
       " 'United kingdom',\n",
       " \"I don't know anymore\",\n",
       " 'Fear and Loathing']"
      ]
     },
     "execution_count": 29,
     "metadata": {},
     "output_type": "execute_result"
    }
   ],
   "source": [
    "other"
   ]
  },
  {
   "cell_type": "code",
   "execution_count": 30,
   "metadata": {},
   "outputs": [],
   "source": [
    "candy.country = candy.country.replace(to_replace = other, value = 'Other')"
   ]
  },
  {
   "cell_type": "code",
   "execution_count": 31,
   "metadata": {
    "scrolled": false
   },
   "outputs": [
    {
     "data": {
      "text/plain": [
       "USA       2111\n",
       "Canada     227\n",
       "Other       97\n",
       "Name: country, dtype: int64"
      ]
     },
     "execution_count": 31,
     "metadata": {},
     "output_type": "execute_result"
    }
   ],
   "source": [
    "candy.country.value_counts()"
   ]
  },
  {
   "cell_type": "markdown",
   "metadata": {},
   "source": [
    "Country column got messy and I got so less done :( I am going to ignore area column, will check it out if my analysis wants me to"
   ]
  },
  {
   "cell_type": "code",
   "execution_count": 32,
   "metadata": {},
   "outputs": [
    {
     "data": {
      "text/plain": [
       "Index(['going_out', 'gender', 'age', 'country', 'area', 'Q6 | 100 Grand Bar',\n",
       "       'Q6 | Anonymous brown globs that come in black and orange wrappers\\t(a.k.a. Mary Janes)',\n",
       "       'Q6 | Any full-sized candy bar', 'Q6 | Black Jacks',\n",
       "       'Q6 | Bonkers (the candy)',\n",
       "       ...\n",
       "       'Q6 | York Peppermint Patties', 'Q7: JOY OTHER', 'Q8: DESPAIR OTHER',\n",
       "       'Q9: OTHER COMMENTS', 'dress', 'day', 'media_DailyDish',\n",
       "       'media_Science', 'media_ESPN', 'media_Yahoo'],\n",
       "      dtype='object', length=117)"
      ]
     },
     "execution_count": 32,
     "metadata": {},
     "output_type": "execute_result"
    }
   ],
   "source": [
    "candy.columns"
   ]
  },
  {
   "cell_type": "markdown",
   "metadata": {},
   "source": [
    "## 6 Datatype conversion"
   ]
  },
  {
   "cell_type": "code",
   "execution_count": 33,
   "metadata": {},
   "outputs": [],
   "source": [
    "candy = candy.astype({'going_out':'category', 'gender':'category', 'country':'category', 'dress':'category', 'day':'category'})"
   ]
  },
  {
   "cell_type": "code",
   "execution_count": 36,
   "metadata": {},
   "outputs": [
    {
     "data": {
      "text/html": [
       "<div>\n",
       "<style scoped>\n",
       "    .dataframe tbody tr th:only-of-type {\n",
       "        vertical-align: middle;\n",
       "    }\n",
       "\n",
       "    .dataframe tbody tr th {\n",
       "        vertical-align: top;\n",
       "    }\n",
       "\n",
       "    .dataframe thead th {\n",
       "        text-align: right;\n",
       "    }\n",
       "</style>\n",
       "<table border=\"1\" class=\"dataframe\">\n",
       "  <thead>\n",
       "    <tr style=\"text-align: right;\">\n",
       "      <th></th>\n",
       "      <th>going_out</th>\n",
       "      <th>gender</th>\n",
       "      <th>country</th>\n",
       "      <th>dress</th>\n",
       "      <th>day</th>\n",
       "    </tr>\n",
       "  </thead>\n",
       "  <tbody>\n",
       "    <tr>\n",
       "      <th>count</th>\n",
       "      <td>2435</td>\n",
       "      <td>2435</td>\n",
       "      <td>2435</td>\n",
       "      <td>1714</td>\n",
       "      <td>1733</td>\n",
       "    </tr>\n",
       "    <tr>\n",
       "      <th>unique</th>\n",
       "      <td>3</td>\n",
       "      <td>4</td>\n",
       "      <td>3</td>\n",
       "      <td>2</td>\n",
       "      <td>2</td>\n",
       "    </tr>\n",
       "    <tr>\n",
       "      <th>top</th>\n",
       "      <td>No</td>\n",
       "      <td>Male</td>\n",
       "      <td>USA</td>\n",
       "      <td>White and gold</td>\n",
       "      <td>Friday</td>\n",
       "    </tr>\n",
       "    <tr>\n",
       "      <th>freq</th>\n",
       "      <td>2038</td>\n",
       "      <td>1467</td>\n",
       "      <td>2111</td>\n",
       "      <td>1080</td>\n",
       "      <td>1089</td>\n",
       "    </tr>\n",
       "  </tbody>\n",
       "</table>\n",
       "</div>"
      ],
      "text/plain": [
       "       going_out gender country           dress     day\n",
       "count       2435   2435    2435            1714    1733\n",
       "unique         3      4       3               2       2\n",
       "top           No   Male     USA  White and gold  Friday\n",
       "freq        2038   1467    2111            1080    1089"
      ]
     },
     "execution_count": 36,
     "metadata": {},
     "output_type": "execute_result"
    }
   ],
   "source": [
    "candy.describe(include = 'category')"
   ]
  },
  {
   "cell_type": "code",
   "execution_count": 37,
   "metadata": {},
   "outputs": [
    {
     "data": {
      "text/plain": [
       "(2435, 117)"
      ]
     },
     "execution_count": 37,
     "metadata": {},
     "output_type": "execute_result"
    }
   ],
   "source": [
    "candy.shape"
   ]
  },
  {
   "cell_type": "code",
   "execution_count": 38,
   "metadata": {},
   "outputs": [],
   "source": [
    "data = candy[candy.columns[-4:]]"
   ]
  },
  {
   "cell_type": "code",
   "execution_count": 39,
   "metadata": {
    "scrolled": true
   },
   "outputs": [
    {
     "data": {
      "text/plain": [
       "(2435, 4)"
      ]
     },
     "execution_count": 39,
     "metadata": {},
     "output_type": "execute_result"
    }
   ],
   "source": [
    "data.shape"
   ]
  },
  {
   "cell_type": "code",
   "execution_count": 40,
   "metadata": {},
   "outputs": [
    {
     "data": {
      "text/html": [
       "<div>\n",
       "<style scoped>\n",
       "    .dataframe tbody tr th:only-of-type {\n",
       "        vertical-align: middle;\n",
       "    }\n",
       "\n",
       "    .dataframe tbody tr th {\n",
       "        vertical-align: top;\n",
       "    }\n",
       "\n",
       "    .dataframe thead th {\n",
       "        text-align: right;\n",
       "    }\n",
       "</style>\n",
       "<table border=\"1\" class=\"dataframe\">\n",
       "  <thead>\n",
       "    <tr style=\"text-align: right;\">\n",
       "      <th></th>\n",
       "      <th>media_DailyDish</th>\n",
       "      <th>media_Science</th>\n",
       "      <th>media_ESPN</th>\n",
       "      <th>media_Yahoo</th>\n",
       "    </tr>\n",
       "  </thead>\n",
       "  <tbody>\n",
       "    <tr>\n",
       "      <th>0</th>\n",
       "      <td>NaN</td>\n",
       "      <td>1.0</td>\n",
       "      <td>NaN</td>\n",
       "      <td>NaN</td>\n",
       "    </tr>\n",
       "    <tr>\n",
       "      <th>1</th>\n",
       "      <td>NaN</td>\n",
       "      <td>NaN</td>\n",
       "      <td>NaN</td>\n",
       "      <td>NaN</td>\n",
       "    </tr>\n",
       "    <tr>\n",
       "      <th>2</th>\n",
       "      <td>NaN</td>\n",
       "      <td>1.0</td>\n",
       "      <td>NaN</td>\n",
       "      <td>NaN</td>\n",
       "    </tr>\n",
       "    <tr>\n",
       "      <th>3</th>\n",
       "      <td>NaN</td>\n",
       "      <td>1.0</td>\n",
       "      <td>NaN</td>\n",
       "      <td>NaN</td>\n",
       "    </tr>\n",
       "    <tr>\n",
       "      <th>4</th>\n",
       "      <td>NaN</td>\n",
       "      <td>1.0</td>\n",
       "      <td>NaN</td>\n",
       "      <td>NaN</td>\n",
       "    </tr>\n",
       "    <tr>\n",
       "      <th>5</th>\n",
       "      <td>NaN</td>\n",
       "      <td>NaN</td>\n",
       "      <td>NaN</td>\n",
       "      <td>NaN</td>\n",
       "    </tr>\n",
       "  </tbody>\n",
       "</table>\n",
       "</div>"
      ],
      "text/plain": [
       "   media_DailyDish  media_Science  media_ESPN  media_Yahoo\n",
       "0              NaN            1.0         NaN          NaN\n",
       "1              NaN            NaN         NaN          NaN\n",
       "2              NaN            1.0         NaN          NaN\n",
       "3              NaN            1.0         NaN          NaN\n",
       "4              NaN            1.0         NaN          NaN\n",
       "5              NaN            NaN         NaN          NaN"
      ]
     },
     "execution_count": 40,
     "metadata": {},
     "output_type": "execute_result"
    }
   ],
   "source": [
    "data.head(6)"
   ]
  },
  {
   "cell_type": "markdown",
   "metadata": {},
   "source": [
    "## 7 Wrting a function to convert 4 columns into 1 column"
   ]
  },
  {
   "cell_type": "code",
   "execution_count": 41,
   "metadata": {},
   "outputs": [],
   "source": [
    "def melt1(row):\n",
    "    for c in data.columns:\n",
    "        if row[c] == 1:\n",
    "            return c"
   ]
  },
  {
   "cell_type": "code",
   "execution_count": 42,
   "metadata": {},
   "outputs": [],
   "source": [
    "new_col = data.apply(melt1, axis = 1)"
   ]
  },
  {
   "cell_type": "code",
   "execution_count": 43,
   "metadata": {},
   "outputs": [],
   "source": [
    "candy['media_preference'] = new_col"
   ]
  },
  {
   "cell_type": "code",
   "execution_count": 44,
   "metadata": {},
   "outputs": [],
   "source": [
    "candy.drop(columns = ['media_DailyDish','media_Science','media_ESPN','media_Yahoo'], inplace = True)"
   ]
  },
  {
   "cell_type": "code",
   "execution_count": 45,
   "metadata": {},
   "outputs": [
    {
     "data": {
      "text/plain": [
       "media_Science      1361\n",
       "NaN                 824\n",
       "media_ESPN           99\n",
       "media_DailyDish      84\n",
       "media_Yahoo          67\n",
       "Name: media_preference, dtype: int64"
      ]
     },
     "execution_count": 45,
     "metadata": {},
     "output_type": "execute_result"
    }
   ],
   "source": [
    "candy.media_preference.value_counts(dropna = False)"
   ]
  },
  {
   "cell_type": "code",
   "execution_count": 46,
   "metadata": {},
   "outputs": [],
   "source": [
    "#Dividing questions and other columns\n",
    "'''\n",
    "candy_options = [i for i in candy.columns if 'Q6' in i or 'Q7' in i or 'Q8' in i or 'Q9' in i]\n",
    "other_columns = [i for i in candy.columns if 'Q6' not in i and 'Q7' not in i and 'Q8' not in i and 'Q9' not in i]\n",
    "'''\n",
    "\n",
    "personal_info_cols = candy.columns[:6]\n",
    "questionare_cols = candy.columns[5:]"
   ]
  },
  {
   "cell_type": "code",
   "execution_count": 47,
   "metadata": {},
   "outputs": [
    {
     "data": {
      "text/plain": [
       "Index(['going_out', 'gender', 'age', 'country', 'area', 'Q6 | 100 Grand Bar',\n",
       "       'Q6 | Anonymous brown globs that come in black and orange wrappers\\t(a.k.a. Mary Janes)',\n",
       "       'Q6 | Any full-sized candy bar', 'Q6 | Black Jacks',\n",
       "       'Q6 | Bonkers (the candy)',\n",
       "       ...\n",
       "       'Q6 | Whatchamacallit Bars', 'Q6 | White Bread',\n",
       "       'Q6 | Whole Wheat anything', 'Q6 | York Peppermint Patties',\n",
       "       'Q7: JOY OTHER', 'Q8: DESPAIR OTHER', 'Q9: OTHER COMMENTS', 'dress',\n",
       "       'day', 'media_preference'],\n",
       "      dtype='object', length=114)"
      ]
     },
     "execution_count": 47,
     "metadata": {},
     "output_type": "execute_result"
    }
   ],
   "source": [
    "candy.columns"
   ]
  },
  {
   "cell_type": "code",
   "execution_count": 48,
   "metadata": {},
   "outputs": [],
   "source": [
    "responses = len(questionare_cols) - candy[questionare_cols].isna().sum(axis = 1)"
   ]
  },
  {
   "cell_type": "code",
   "execution_count": 49,
   "metadata": {},
   "outputs": [],
   "source": [
    "candy['responses'] = responses"
   ]
  },
  {
   "cell_type": "markdown",
   "metadata": {},
   "source": [
    "This concludes the data cleaning part of the dataset"
   ]
  },
  {
   "cell_type": "markdown",
   "metadata": {},
   "source": [
    "# Part 2 - EDA"
   ]
  },
  {
   "cell_type": "code",
   "execution_count": 50,
   "metadata": {},
   "outputs": [],
   "source": [
    "candy_questions = [x for x in candy.columns if 'Q6' in x]"
   ]
  },
  {
   "cell_type": "code",
   "execution_count": 51,
   "metadata": {},
   "outputs": [],
   "source": [
    "data = pd.DataFrame(candy[candy_questions])"
   ]
  },
  {
   "cell_type": "code",
   "execution_count": 52,
   "metadata": {},
   "outputs": [
    {
     "data": {
      "text/plain": [
       "(2435, 103)"
      ]
     },
     "execution_count": 52,
     "metadata": {},
     "output_type": "execute_result"
    }
   ],
   "source": [
    "data.shape"
   ]
  },
  {
   "cell_type": "code",
   "execution_count": 53,
   "metadata": {},
   "outputs": [],
   "source": [
    "re = ['type_'+ str(x) for x in range(1,104)]\n",
    "\n",
    "dic = {}\n",
    "for i in range(len(data.columns)):\n",
    "    dic[data.columns[i]] = re[i]"
   ]
  },
  {
   "cell_type": "code",
   "execution_count": 54,
   "metadata": {},
   "outputs": [],
   "source": [
    "candy = candy.rename(columns = dic)\n",
    "data = data.rename(columns = dic)"
   ]
  },
  {
   "cell_type": "markdown",
   "metadata": {},
   "source": [
    "## Delete rows that have all NaNs"
   ]
  },
  {
   "cell_type": "code",
   "execution_count": 55,
   "metadata": {},
   "outputs": [],
   "source": [
    "data = data.dropna(axis = 0, how = 'all')\n",
    "data = data.reset_index(drop = True)"
   ]
  },
  {
   "cell_type": "code",
   "execution_count": 56,
   "metadata": {},
   "outputs": [
    {
     "data": {
      "text/plain": [
       "(1799, 103)"
      ]
     },
     "execution_count": 56,
     "metadata": {},
     "output_type": "execute_result"
    }
   ],
   "source": [
    "data.shape"
   ]
  },
  {
   "cell_type": "code",
   "execution_count": 57,
   "metadata": {},
   "outputs": [],
   "source": [
    "data = data.rename(columns = dic)"
   ]
  },
  {
   "cell_type": "code",
   "execution_count": 58,
   "metadata": {},
   "outputs": [
    {
     "data": {
      "text/html": [
       "<div>\n",
       "<style scoped>\n",
       "    .dataframe tbody tr th:only-of-type {\n",
       "        vertical-align: middle;\n",
       "    }\n",
       "\n",
       "    .dataframe tbody tr th {\n",
       "        vertical-align: top;\n",
       "    }\n",
       "\n",
       "    .dataframe thead th {\n",
       "        text-align: right;\n",
       "    }\n",
       "</style>\n",
       "<table border=\"1\" class=\"dataframe\">\n",
       "  <thead>\n",
       "    <tr style=\"text-align: right;\">\n",
       "      <th></th>\n",
       "      <th>type_1</th>\n",
       "      <th>type_2</th>\n",
       "      <th>type_3</th>\n",
       "      <th>type_4</th>\n",
       "      <th>type_5</th>\n",
       "      <th>type_6</th>\n",
       "      <th>type_7</th>\n",
       "      <th>type_8</th>\n",
       "      <th>type_9</th>\n",
       "      <th>type_10</th>\n",
       "      <th>...</th>\n",
       "      <th>type_94</th>\n",
       "      <th>type_95</th>\n",
       "      <th>type_96</th>\n",
       "      <th>type_97</th>\n",
       "      <th>type_98</th>\n",
       "      <th>type_99</th>\n",
       "      <th>type_100</th>\n",
       "      <th>type_101</th>\n",
       "      <th>type_102</th>\n",
       "      <th>type_103</th>\n",
       "    </tr>\n",
       "  </thead>\n",
       "  <tbody>\n",
       "    <tr>\n",
       "      <th>0</th>\n",
       "      <td>MEH</td>\n",
       "      <td>DESPAIR</td>\n",
       "      <td>JOY</td>\n",
       "      <td>MEH</td>\n",
       "      <td>DESPAIR</td>\n",
       "      <td>DESPAIR</td>\n",
       "      <td>DESPAIR</td>\n",
       "      <td>DESPAIR</td>\n",
       "      <td>DESPAIR</td>\n",
       "      <td>DESPAIR</td>\n",
       "      <td>...</td>\n",
       "      <td>JOY</td>\n",
       "      <td>JOY</td>\n",
       "      <td>DESPAIR</td>\n",
       "      <td>JOY</td>\n",
       "      <td>DESPAIR</td>\n",
       "      <td>DESPAIR</td>\n",
       "      <td>DESPAIR</td>\n",
       "      <td>DESPAIR</td>\n",
       "      <td>DESPAIR</td>\n",
       "      <td>DESPAIR</td>\n",
       "    </tr>\n",
       "    <tr>\n",
       "      <th>1</th>\n",
       "      <td>MEH</td>\n",
       "      <td>DESPAIR</td>\n",
       "      <td>JOY</td>\n",
       "      <td>MEH</td>\n",
       "      <td>MEH</td>\n",
       "      <td>DESPAIR</td>\n",
       "      <td>MEH</td>\n",
       "      <td>DESPAIR</td>\n",
       "      <td>DESPAIR</td>\n",
       "      <td>MEH</td>\n",
       "      <td>...</td>\n",
       "      <td>DESPAIR</td>\n",
       "      <td>JOY</td>\n",
       "      <td>MEH</td>\n",
       "      <td>JOY</td>\n",
       "      <td>DESPAIR</td>\n",
       "      <td>JOY</td>\n",
       "      <td>JOY</td>\n",
       "      <td>DESPAIR</td>\n",
       "      <td>DESPAIR</td>\n",
       "      <td>DESPAIR</td>\n",
       "    </tr>\n",
       "    <tr>\n",
       "      <th>2</th>\n",
       "      <td>JOY</td>\n",
       "      <td>DESPAIR</td>\n",
       "      <td>JOY</td>\n",
       "      <td>DESPAIR</td>\n",
       "      <td>MEH</td>\n",
       "      <td>DESPAIR</td>\n",
       "      <td>MEH</td>\n",
       "      <td>DESPAIR</td>\n",
       "      <td>DESPAIR</td>\n",
       "      <td>MEH</td>\n",
       "      <td>...</td>\n",
       "      <td>JOY</td>\n",
       "      <td>JOY</td>\n",
       "      <td>DESPAIR</td>\n",
       "      <td>JOY</td>\n",
       "      <td>MEH</td>\n",
       "      <td>JOY</td>\n",
       "      <td>JOY</td>\n",
       "      <td>DESPAIR</td>\n",
       "      <td>DESPAIR</td>\n",
       "      <td>JOY</td>\n",
       "    </tr>\n",
       "    <tr>\n",
       "      <th>3</th>\n",
       "      <td>JOY</td>\n",
       "      <td>DESPAIR</td>\n",
       "      <td>JOY</td>\n",
       "      <td>NaN</td>\n",
       "      <td>NaN</td>\n",
       "      <td>NaN</td>\n",
       "      <td>MEH</td>\n",
       "      <td>MEH</td>\n",
       "      <td>DESPAIR</td>\n",
       "      <td>JOY</td>\n",
       "      <td>...</td>\n",
       "      <td>JOY</td>\n",
       "      <td>JOY</td>\n",
       "      <td>MEH</td>\n",
       "      <td>JOY</td>\n",
       "      <td>DESPAIR</td>\n",
       "      <td>DESPAIR</td>\n",
       "      <td>JOY</td>\n",
       "      <td>DESPAIR</td>\n",
       "      <td>DESPAIR</td>\n",
       "      <td>JOY</td>\n",
       "    </tr>\n",
       "  </tbody>\n",
       "</table>\n",
       "<p>4 rows × 103 columns</p>\n",
       "</div>"
      ],
      "text/plain": [
       "  type_1   type_2 type_3   type_4   type_5   type_6   type_7   type_8  \\\n",
       "0    MEH  DESPAIR    JOY      MEH  DESPAIR  DESPAIR  DESPAIR  DESPAIR   \n",
       "1    MEH  DESPAIR    JOY      MEH      MEH  DESPAIR      MEH  DESPAIR   \n",
       "2    JOY  DESPAIR    JOY  DESPAIR      MEH  DESPAIR      MEH  DESPAIR   \n",
       "3    JOY  DESPAIR    JOY      NaN      NaN      NaN      MEH      MEH   \n",
       "\n",
       "    type_9  type_10  ...  type_94 type_95  type_96 type_97  type_98  type_99  \\\n",
       "0  DESPAIR  DESPAIR  ...      JOY     JOY  DESPAIR     JOY  DESPAIR  DESPAIR   \n",
       "1  DESPAIR      MEH  ...  DESPAIR     JOY      MEH     JOY  DESPAIR      JOY   \n",
       "2  DESPAIR      MEH  ...      JOY     JOY  DESPAIR     JOY      MEH      JOY   \n",
       "3  DESPAIR      JOY  ...      JOY     JOY      MEH     JOY  DESPAIR  DESPAIR   \n",
       "\n",
       "  type_100 type_101 type_102 type_103  \n",
       "0  DESPAIR  DESPAIR  DESPAIR  DESPAIR  \n",
       "1      JOY  DESPAIR  DESPAIR  DESPAIR  \n",
       "2      JOY  DESPAIR  DESPAIR      JOY  \n",
       "3      JOY  DESPAIR  DESPAIR      JOY  \n",
       "\n",
       "[4 rows x 103 columns]"
      ]
     },
     "execution_count": 58,
     "metadata": {},
     "output_type": "execute_result"
    }
   ],
   "source": [
    "data.head(4)"
   ]
  },
  {
   "cell_type": "code",
   "execution_count": 59,
   "metadata": {},
   "outputs": [],
   "source": [
    "d = data.melt()"
   ]
  },
  {
   "cell_type": "code",
   "execution_count": 60,
   "metadata": {},
   "outputs": [
    {
     "data": {
      "text/html": [
       "<div>\n",
       "<style scoped>\n",
       "    .dataframe tbody tr th:only-of-type {\n",
       "        vertical-align: middle;\n",
       "    }\n",
       "\n",
       "    .dataframe tbody tr th {\n",
       "        vertical-align: top;\n",
       "    }\n",
       "\n",
       "    .dataframe thead th {\n",
       "        text-align: right;\n",
       "    }\n",
       "</style>\n",
       "<table border=\"1\" class=\"dataframe\">\n",
       "  <thead>\n",
       "    <tr style=\"text-align: right;\">\n",
       "      <th></th>\n",
       "      <th>variable</th>\n",
       "      <th>value</th>\n",
       "    </tr>\n",
       "  </thead>\n",
       "  <tbody>\n",
       "    <tr>\n",
       "      <th>0</th>\n",
       "      <td>type_1</td>\n",
       "      <td>MEH</td>\n",
       "    </tr>\n",
       "    <tr>\n",
       "      <th>1</th>\n",
       "      <td>type_1</td>\n",
       "      <td>MEH</td>\n",
       "    </tr>\n",
       "    <tr>\n",
       "      <th>2</th>\n",
       "      <td>type_1</td>\n",
       "      <td>JOY</td>\n",
       "    </tr>\n",
       "    <tr>\n",
       "      <th>3</th>\n",
       "      <td>type_1</td>\n",
       "      <td>JOY</td>\n",
       "    </tr>\n",
       "    <tr>\n",
       "      <th>4</th>\n",
       "      <td>type_1</td>\n",
       "      <td>JOY</td>\n",
       "    </tr>\n",
       "  </tbody>\n",
       "</table>\n",
       "</div>"
      ],
      "text/plain": [
       "  variable value\n",
       "0   type_1   MEH\n",
       "1   type_1   MEH\n",
       "2   type_1   JOY\n",
       "3   type_1   JOY\n",
       "4   type_1   JOY"
      ]
     },
     "execution_count": 60,
     "metadata": {},
     "output_type": "execute_result"
    }
   ],
   "source": [
    "d.head(5)"
   ]
  },
  {
   "cell_type": "code",
   "execution_count": 63,
   "metadata": {},
   "outputs": [
    {
     "data": {
      "text/plain": [
       "<matplotlib.axes._subplots.AxesSubplot at 0x1fcfbf9ef60>"
      ]
     },
     "execution_count": 63,
     "metadata": {},
     "output_type": "execute_result"
    },
    {
     "data": {
      "image/png": "[encoded data removed]",
      "text/plain": [
       "<Figure size 432x288 with 1 Axes>"
      ]
     },
     "metadata": {
      "needs_background": "light"
     },
     "output_type": "display_data"
    }
   ],
   "source": [
    "import seaborn as sns\n",
    "\n",
    "sns.countplot(data = d[:4000], x = 'variable', hue = 'value')"
   ]
  }
 ],
 "metadata": {
  "kernelspec": {
   "display_name": "Python 3",
   "language": "python",
   "name": "python3"
  },
  "language_info": {
   "codemirror_mode": {
    "name": "ipython",
    "version": 3
   },
   "file_extension": ".py",
   "mimetype": "text/x-python",
   "name": "python",
   "nbconvert_exporter": "python",
   "pygments_lexer": "ipython3",
   "version": "3.7.0"
  }
 },
 "nbformat": 4,
 "nbformat_minor": 2
}
