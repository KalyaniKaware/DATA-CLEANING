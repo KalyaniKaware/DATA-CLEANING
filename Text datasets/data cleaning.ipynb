{
 "cells": [
  {
   "cell_type": "markdown",
   "metadata": {},
   "source": [
    "Tutorial followed: https://realpython.com/python-data-cleaning-numpy-pandas/#combining-str-methods-with-numpy-to-clean-columns"
   ]
  },
  {
   "cell_type": "code",
   "execution_count": 103,
   "metadata": {},
   "outputs": [],
   "source": [
    "import pandas as pd\n",
    "import numpy as np\n",
    "import re\n",
    "\n",
    "books = pd.read_csv(r\"C:\\Users\\kalya\\Desktop\\practise\\data cleaning practise\\Datasets\\BL-Flickr-Images-Book.csv\")\n",
    "olympics = pd.read_csv(r\"C:\\Users\\kalya\\Desktop\\practise\\data cleaning practise\\Datasets\\olympics.csv\")"
   ]
  },
  {
   "cell_type": "markdown",
   "metadata": {},
   "source": [
    "1. **Books dataset**"
   ]
  },
  {
   "cell_type": "code",
   "execution_count": 104,
   "metadata": {},
   "outputs": [
    {
     "data": {
      "text/plain": [
       "Identifier                False\n",
       "Edition Statement         False\n",
       "Place of Publication      False\n",
       "Date of Publication       False\n",
       "Publisher                 False\n",
       "Title                     False\n",
       "Author                    False\n",
       "Contributors              False\n",
       "Corporate Author           True\n",
       "Corporate Contributors     True\n",
       "Former owner              False\n",
       "Engraver                   True\n",
       "Issuance type             False\n",
       "Flickr URL                False\n",
       "Shelfmarks                False\n",
       "dtype: bool"
      ]
     },
     "execution_count": 104,
     "metadata": {},
     "output_type": "execute_result"
    }
   ],
   "source": [
    "books.isna().all()"
   ]
  },
  {
   "cell_type": "code",
   "execution_count": 105,
   "metadata": {},
   "outputs": [],
   "source": [
    "books.drop(columns = ['Corporate Author','Corporate Contributors','Engraver'],inplace = True, axis = 'column')"
   ]
  },
  {
   "cell_type": "code",
   "execution_count": 106,
   "metadata": {},
   "outputs": [
    {
     "name": "stdout",
     "output_type": "stream",
     "text": [
      "<class 'pandas.core.frame.DataFrame'>\n",
      "RangeIndex: 8287 entries, 0 to 8286\n",
      "Data columns (total 12 columns):\n",
      "Identifier              8287 non-null int64\n",
      "Edition Statement       773 non-null object\n",
      "Place of Publication    8287 non-null object\n",
      "Date of Publication     8106 non-null object\n",
      "Publisher               4092 non-null object\n",
      "Title                   8287 non-null object\n",
      "Author                  6509 non-null object\n",
      "Contributors            8287 non-null object\n",
      "Former owner            1 non-null object\n",
      "Issuance type           8287 non-null object\n",
      "Flickr URL              8287 non-null object\n",
      "Shelfmarks              8287 non-null object\n",
      "dtypes: int64(1), object(11)\n",
      "memory usage: 777.0+ KB\n"
     ]
    }
   ],
   "source": [
    "books.info()"
   ]
  },
  {
   "cell_type": "code",
   "execution_count": 107,
   "metadata": {},
   "outputs": [
    {
     "data": {
      "text/plain": [
       "30                              Abingdon\n",
       "31                                Quebec\n",
       "32                                London\n",
       "33                                London\n",
       "34                               Leipzig\n",
       "35    pp. 40. W. Cann: Plymouth, [1876?]\n",
       "36                                London\n",
       "37                                London\n",
       "38                                London\n",
       "39                                  1845\n",
       "40                                London\n",
       "41                                London\n",
       "42                                   enk\n",
       "43                                London\n",
       "44                                Boston\n",
       "45                                London\n",
       "46                               Upsaliæ\n",
       "47                                London\n",
       "48                             Edinburgh\n",
       "49                               Yverdon\n",
       "50                               Londini\n",
       "51                        St. Petersburg\n",
       "52                                Berlin\n",
       "53                                London\n",
       "54                                London\n",
       "55                                London\n",
       "56                                London\n",
       "57                                Sceaux\n",
       "58                                London\n",
       "59                               Coblenz\n",
       "                     ...                \n",
       "70                                London\n",
       "71                                London\n",
       "72                                London\n",
       "73                             A. Millar\n",
       "74                              New York\n",
       "75                            Allahabad]\n",
       "76                                London\n",
       "77                             Stuttgart\n",
       "78                                London\n",
       "79                      D. Appleton & Co\n",
       "80                                London\n",
       "81                       Санктпетербургъ\n",
       "82                                London\n",
       "83                               Paisley\n",
       "84                                London\n",
       "85                                London\n",
       "86                                London\n",
       "87                                London\n",
       "88                                London\n",
       "89                                London\n",
       "90                                London\n",
       "91                                London\n",
       "92                                London\n",
       "93                                 Paris\n",
       "94                                London\n",
       "95                             Edinburgh\n",
       "96                                Napoli\n",
       "97                                London\n",
       "98                          Ἐν Κερκυρᾳ\n",
       "99                                London\n",
       "Name: Place of Publication, Length: 70, dtype: object"
      ]
     },
     "execution_count": 107,
     "metadata": {},
     "output_type": "execute_result"
    }
   ],
   "source": [
    "#books.iloc[35]\n",
    "\n",
    "books['Place of Publication'].iloc[30:100]"
   ]
  },
  {
   "cell_type": "code",
   "execution_count": 108,
   "metadata": {},
   "outputs": [],
   "source": [
    "books['Place of Publication'] = np.where(books['Place of Publication'].str.contains('London'),'London',\n",
    "        np.where(books['Place of Publication'].str.contains('Oxford'),'Oxford',\n",
    "                np.where(books['Place of Publication'].str.contains('Plymouth'),'Plymouth',\n",
    "                        books['Place of Publication'].str.replace('-',' '))\n",
    "                )\n",
    "        )"
   ]
  },
  {
   "cell_type": "code",
   "execution_count": 109,
   "metadata": {},
   "outputs": [
    {
     "data": {
      "text/plain": [
       "2527                   London\n",
       "7902                   London\n",
       "3406              Scarborough\n",
       "3326                   London\n",
       "892                    London\n",
       "5645                   London\n",
       "4294                   London\n",
       "6492                     Bern\n",
       "1187                    Paris\n",
       "2809                   Dublin\n",
       "4890                   Sydney\n",
       "944                    La Paz\n",
       "6137                   London\n",
       "3103            С. Петербургъ\n",
       "2382                   London\n",
       "610                   Belfast\n",
       "7772                   London\n",
       "2211    Санктпетербургъ, 1867\n",
       "6817                   London\n",
       "1868               Cupar Fife\n",
       "Name: Place of Publication, dtype: object"
      ]
     },
     "execution_count": 109,
     "metadata": {},
     "output_type": "execute_result"
    }
   ],
   "source": [
    "books['Place of Publication'].sample(20)"
   ]
  },
  {
   "cell_type": "code",
   "execution_count": 110,
   "metadata": {},
   "outputs": [
    {
     "data": {
      "text/plain": [
       "True"
      ]
     },
     "execution_count": 110,
     "metadata": {},
     "output_type": "execute_result"
    }
   ],
   "source": [
    "books['Identifier'].is_unique"
   ]
  },
  {
   "cell_type": "code",
   "execution_count": 111,
   "metadata": {},
   "outputs": [],
   "source": [
    "books.set_index('Identifier',inplace = True)"
   ]
  },
  {
   "cell_type": "code",
   "execution_count": 112,
   "metadata": {},
   "outputs": [
    {
     "data": {
      "text/html": [
       "<div>\n",
       "<style scoped>\n",
       "    .dataframe tbody tr th:only-of-type {\n",
       "        vertical-align: middle;\n",
       "    }\n",
       "\n",
       "    .dataframe tbody tr th {\n",
       "        vertical-align: top;\n",
       "    }\n",
       "\n",
       "    .dataframe thead th {\n",
       "        text-align: right;\n",
       "    }\n",
       "</style>\n",
       "<table border=\"1\" class=\"dataframe\">\n",
       "  <thead>\n",
       "    <tr style=\"text-align: right;\">\n",
       "      <th></th>\n",
       "      <th>Edition Statement</th>\n",
       "      <th>Place of Publication</th>\n",
       "      <th>Date of Publication</th>\n",
       "      <th>Publisher</th>\n",
       "      <th>Title</th>\n",
       "      <th>Author</th>\n",
       "      <th>Contributors</th>\n",
       "      <th>Former owner</th>\n",
       "      <th>Issuance type</th>\n",
       "      <th>Flickr URL</th>\n",
       "      <th>Shelfmarks</th>\n",
       "    </tr>\n",
       "    <tr>\n",
       "      <th>Identifier</th>\n",
       "      <th></th>\n",
       "      <th></th>\n",
       "      <th></th>\n",
       "      <th></th>\n",
       "      <th></th>\n",
       "      <th></th>\n",
       "      <th></th>\n",
       "      <th></th>\n",
       "      <th></th>\n",
       "      <th></th>\n",
       "      <th></th>\n",
       "    </tr>\n",
       "  </thead>\n",
       "  <tbody>\n",
       "    <tr>\n",
       "      <th>206</th>\n",
       "      <td>NaN</td>\n",
       "      <td>London</td>\n",
       "      <td>1879 [1878]</td>\n",
       "      <td>S. Tinsley &amp; Co.</td>\n",
       "      <td>Walter Forbes. [A novel.] By A. A</td>\n",
       "      <td>A. A.</td>\n",
       "      <td>FORBES, Walter.</td>\n",
       "      <td>NaN</td>\n",
       "      <td>monographic</td>\n",
       "      <td>http://www.flickr.com/photos/britishlibrary/ta...</td>\n",
       "      <td>British Library HMNTS 12641.b.30.</td>\n",
       "    </tr>\n",
       "    <tr>\n",
       "      <th>216</th>\n",
       "      <td>NaN</td>\n",
       "      <td>London</td>\n",
       "      <td>1868</td>\n",
       "      <td>Virtue &amp; Co.</td>\n",
       "      <td>All for Greed. [A novel. The dedication signed...</td>\n",
       "      <td>A., A. A.</td>\n",
       "      <td>BLAZE DE BURY, Marie Pauline Rose - Baroness</td>\n",
       "      <td>NaN</td>\n",
       "      <td>monographic</td>\n",
       "      <td>http://www.flickr.com/photos/britishlibrary/ta...</td>\n",
       "      <td>British Library HMNTS 12626.cc.2.</td>\n",
       "    </tr>\n",
       "  </tbody>\n",
       "</table>\n",
       "</div>"
      ],
      "text/plain": [
       "           Edition Statement Place of Publication Date of Publication  \\\n",
       "Identifier                                                              \n",
       "206                      NaN               London         1879 [1878]   \n",
       "216                      NaN               London                1868   \n",
       "\n",
       "                   Publisher  \\\n",
       "Identifier                     \n",
       "206         S. Tinsley & Co.   \n",
       "216             Virtue & Co.   \n",
       "\n",
       "                                                        Title     Author  \\\n",
       "Identifier                                                                 \n",
       "206                         Walter Forbes. [A novel.] By A. A      A. A.   \n",
       "216         All for Greed. [A novel. The dedication signed...  A., A. A.   \n",
       "\n",
       "                                            Contributors Former owner  \\\n",
       "Identifier                                                              \n",
       "206                                      FORBES, Walter.          NaN   \n",
       "216         BLAZE DE BURY, Marie Pauline Rose - Baroness          NaN   \n",
       "\n",
       "           Issuance type                                         Flickr URL  \\\n",
       "Identifier                                                                    \n",
       "206          monographic  http://www.flickr.com/photos/britishlibrary/ta...   \n",
       "216          monographic  http://www.flickr.com/photos/britishlibrary/ta...   \n",
       "\n",
       "                                   Shelfmarks  \n",
       "Identifier                                     \n",
       "206         British Library HMNTS 12641.b.30.  \n",
       "216         British Library HMNTS 12626.cc.2.  "
      ]
     },
     "execution_count": 112,
     "metadata": {},
     "output_type": "execute_result"
    }
   ],
   "source": [
    "books.head(2)"
   ]
  },
  {
   "cell_type": "code",
   "execution_count": 139,
   "metadata": {},
   "outputs": [],
   "source": [
    "#books['Date of Publication'] = books['Date of Publication'].str.extract(r'(^\\d[4])')\n",
    "\n",
    "#books['DateofP'] = books['Date of Publication'].str.extract(r'^(\\d{4})')\n",
    "\n",
    "['Date of Publication'] = books['Date of Publication'].str.extract(r'^(\\d{4})')\n",
    "\n",
    "#re.split\n",
    "#expand = "
   ]
  },
  {
   "cell_type": "markdown",
   "metadata": {},
   "source": [
    "2. **Olympics dataset**"
   ]
  },
  {
   "cell_type": "code",
   "execution_count": 46,
   "metadata": {},
   "outputs": [
    {
     "data": {
      "text/html": [
       "<div>\n",
       "<style scoped>\n",
       "    .dataframe tbody tr th:only-of-type {\n",
       "        vertical-align: middle;\n",
       "    }\n",
       "\n",
       "    .dataframe tbody tr th {\n",
       "        vertical-align: top;\n",
       "    }\n",
       "\n",
       "    .dataframe thead th {\n",
       "        text-align: right;\n",
       "    }\n",
       "</style>\n",
       "<table border=\"1\" class=\"dataframe\">\n",
       "  <thead>\n",
       "    <tr style=\"text-align: right;\">\n",
       "      <th></th>\n",
       "      <th>0</th>\n",
       "      <th>1</th>\n",
       "      <th>2</th>\n",
       "      <th>3</th>\n",
       "      <th>4</th>\n",
       "      <th>5</th>\n",
       "      <th>6</th>\n",
       "      <th>7</th>\n",
       "      <th>8</th>\n",
       "      <th>9</th>\n",
       "      <th>10</th>\n",
       "      <th>11</th>\n",
       "      <th>12</th>\n",
       "      <th>13</th>\n",
       "      <th>14</th>\n",
       "      <th>15</th>\n",
       "    </tr>\n",
       "  </thead>\n",
       "  <tbody>\n",
       "    <tr>\n",
       "      <th>0</th>\n",
       "      <td>NaN</td>\n",
       "      <td>? Summer</td>\n",
       "      <td>01 !</td>\n",
       "      <td>02 !</td>\n",
       "      <td>03 !</td>\n",
       "      <td>Total</td>\n",
       "      <td>? Winter</td>\n",
       "      <td>01 !</td>\n",
       "      <td>02 !</td>\n",
       "      <td>03 !</td>\n",
       "      <td>Total</td>\n",
       "      <td>? Games</td>\n",
       "      <td>01 !</td>\n",
       "      <td>02 !</td>\n",
       "      <td>03 !</td>\n",
       "      <td>Combined total</td>\n",
       "    </tr>\n",
       "    <tr>\n",
       "      <th>1</th>\n",
       "      <td>Afghanistan (AFG)</td>\n",
       "      <td>13</td>\n",
       "      <td>0</td>\n",
       "      <td>0</td>\n",
       "      <td>2</td>\n",
       "      <td>2</td>\n",
       "      <td>0</td>\n",
       "      <td>0</td>\n",
       "      <td>0</td>\n",
       "      <td>0</td>\n",
       "      <td>0</td>\n",
       "      <td>13</td>\n",
       "      <td>0</td>\n",
       "      <td>0</td>\n",
       "      <td>2</td>\n",
       "      <td>2</td>\n",
       "    </tr>\n",
       "    <tr>\n",
       "      <th>2</th>\n",
       "      <td>Algeria (ALG)</td>\n",
       "      <td>12</td>\n",
       "      <td>5</td>\n",
       "      <td>2</td>\n",
       "      <td>8</td>\n",
       "      <td>15</td>\n",
       "      <td>3</td>\n",
       "      <td>0</td>\n",
       "      <td>0</td>\n",
       "      <td>0</td>\n",
       "      <td>0</td>\n",
       "      <td>15</td>\n",
       "      <td>5</td>\n",
       "      <td>2</td>\n",
       "      <td>8</td>\n",
       "      <td>15</td>\n",
       "    </tr>\n",
       "    <tr>\n",
       "      <th>3</th>\n",
       "      <td>Argentina (ARG)</td>\n",
       "      <td>23</td>\n",
       "      <td>18</td>\n",
       "      <td>24</td>\n",
       "      <td>28</td>\n",
       "      <td>70</td>\n",
       "      <td>18</td>\n",
       "      <td>0</td>\n",
       "      <td>0</td>\n",
       "      <td>0</td>\n",
       "      <td>0</td>\n",
       "      <td>41</td>\n",
       "      <td>18</td>\n",
       "      <td>24</td>\n",
       "      <td>28</td>\n",
       "      <td>70</td>\n",
       "    </tr>\n",
       "    <tr>\n",
       "      <th>4</th>\n",
       "      <td>Armenia (ARM)</td>\n",
       "      <td>5</td>\n",
       "      <td>1</td>\n",
       "      <td>2</td>\n",
       "      <td>9</td>\n",
       "      <td>12</td>\n",
       "      <td>6</td>\n",
       "      <td>0</td>\n",
       "      <td>0</td>\n",
       "      <td>0</td>\n",
       "      <td>0</td>\n",
       "      <td>11</td>\n",
       "      <td>1</td>\n",
       "      <td>2</td>\n",
       "      <td>9</td>\n",
       "      <td>12</td>\n",
       "    </tr>\n",
       "  </tbody>\n",
       "</table>\n",
       "</div>"
      ],
      "text/plain": [
       "                   0         1     2     3     4      5         6     7     8  \\\n",
       "0                NaN  ? Summer  01 !  02 !  03 !  Total  ? Winter  01 !  02 !   \n",
       "1  Afghanistan (AFG)        13     0     0     2      2         0     0     0   \n",
       "2      Algeria (ALG)        12     5     2     8     15         3     0     0   \n",
       "3    Argentina (ARG)        23    18    24    28     70        18     0     0   \n",
       "4      Armenia (ARM)         5     1     2     9     12         6     0     0   \n",
       "\n",
       "      9     10       11    12    13    14              15  \n",
       "0  03 !  Total  ? Games  01 !  02 !  03 !  Combined total  \n",
       "1     0      0       13     0     0     2               2  \n",
       "2     0      0       15     5     2     8              15  \n",
       "3     0      0       41    18    24    28              70  \n",
       "4     0      0       11     1     2     9              12  "
      ]
     },
     "execution_count": 46,
     "metadata": {},
     "output_type": "execute_result"
    }
   ],
   "source": [
    "olympics.head(5)"
   ]
  },
  {
   "cell_type": "code",
   "execution_count": 48,
   "metadata": {},
   "outputs": [],
   "source": [
    "olympics = pd.read_csv(r\"C:\\Users\\kalya\\Desktop\\practise\\data cleaning practise\\Datasets\\olympics.csv\", header = 1)"
   ]
  },
  {
   "cell_type": "code",
   "execution_count": 49,
   "metadata": {},
   "outputs": [
    {
     "data": {
      "text/html": [
       "<div>\n",
       "<style scoped>\n",
       "    .dataframe tbody tr th:only-of-type {\n",
       "        vertical-align: middle;\n",
       "    }\n",
       "\n",
       "    .dataframe tbody tr th {\n",
       "        vertical-align: top;\n",
       "    }\n",
       "\n",
       "    .dataframe thead th {\n",
       "        text-align: right;\n",
       "    }\n",
       "</style>\n",
       "<table border=\"1\" class=\"dataframe\">\n",
       "  <thead>\n",
       "    <tr style=\"text-align: right;\">\n",
       "      <th></th>\n",
       "      <th>Unnamed: 0</th>\n",
       "      <th>? Summer</th>\n",
       "      <th>01 !</th>\n",
       "      <th>02 !</th>\n",
       "      <th>03 !</th>\n",
       "      <th>Total</th>\n",
       "      <th>? Winter</th>\n",
       "      <th>01 !.1</th>\n",
       "      <th>02 !.1</th>\n",
       "      <th>03 !.1</th>\n",
       "      <th>Total.1</th>\n",
       "      <th>? Games</th>\n",
       "      <th>01 !.2</th>\n",
       "      <th>02 !.2</th>\n",
       "      <th>03 !.2</th>\n",
       "      <th>Combined total</th>\n",
       "    </tr>\n",
       "  </thead>\n",
       "  <tbody>\n",
       "    <tr>\n",
       "      <th>0</th>\n",
       "      <td>Afghanistan (AFG)</td>\n",
       "      <td>13</td>\n",
       "      <td>0</td>\n",
       "      <td>0</td>\n",
       "      <td>2</td>\n",
       "      <td>2</td>\n",
       "      <td>0</td>\n",
       "      <td>0</td>\n",
       "      <td>0</td>\n",
       "      <td>0</td>\n",
       "      <td>0</td>\n",
       "      <td>13</td>\n",
       "      <td>0</td>\n",
       "      <td>0</td>\n",
       "      <td>2</td>\n",
       "      <td>2</td>\n",
       "    </tr>\n",
       "    <tr>\n",
       "      <th>1</th>\n",
       "      <td>Algeria (ALG)</td>\n",
       "      <td>12</td>\n",
       "      <td>5</td>\n",
       "      <td>2</td>\n",
       "      <td>8</td>\n",
       "      <td>15</td>\n",
       "      <td>3</td>\n",
       "      <td>0</td>\n",
       "      <td>0</td>\n",
       "      <td>0</td>\n",
       "      <td>0</td>\n",
       "      <td>15</td>\n",
       "      <td>5</td>\n",
       "      <td>2</td>\n",
       "      <td>8</td>\n",
       "      <td>15</td>\n",
       "    </tr>\n",
       "    <tr>\n",
       "      <th>2</th>\n",
       "      <td>Argentina (ARG)</td>\n",
       "      <td>23</td>\n",
       "      <td>18</td>\n",
       "      <td>24</td>\n",
       "      <td>28</td>\n",
       "      <td>70</td>\n",
       "      <td>18</td>\n",
       "      <td>0</td>\n",
       "      <td>0</td>\n",
       "      <td>0</td>\n",
       "      <td>0</td>\n",
       "      <td>41</td>\n",
       "      <td>18</td>\n",
       "      <td>24</td>\n",
       "      <td>28</td>\n",
       "      <td>70</td>\n",
       "    </tr>\n",
       "    <tr>\n",
       "      <th>3</th>\n",
       "      <td>Armenia (ARM)</td>\n",
       "      <td>5</td>\n",
       "      <td>1</td>\n",
       "      <td>2</td>\n",
       "      <td>9</td>\n",
       "      <td>12</td>\n",
       "      <td>6</td>\n",
       "      <td>0</td>\n",
       "      <td>0</td>\n",
       "      <td>0</td>\n",
       "      <td>0</td>\n",
       "      <td>11</td>\n",
       "      <td>1</td>\n",
       "      <td>2</td>\n",
       "      <td>9</td>\n",
       "      <td>12</td>\n",
       "    </tr>\n",
       "    <tr>\n",
       "      <th>4</th>\n",
       "      <td>Australasia (ANZ) [ANZ]</td>\n",
       "      <td>2</td>\n",
       "      <td>3</td>\n",
       "      <td>4</td>\n",
       "      <td>5</td>\n",
       "      <td>12</td>\n",
       "      <td>0</td>\n",
       "      <td>0</td>\n",
       "      <td>0</td>\n",
       "      <td>0</td>\n",
       "      <td>0</td>\n",
       "      <td>2</td>\n",
       "      <td>3</td>\n",
       "      <td>4</td>\n",
       "      <td>5</td>\n",
       "      <td>12</td>\n",
       "    </tr>\n",
       "  </tbody>\n",
       "</table>\n",
       "</div>"
      ],
      "text/plain": [
       "                Unnamed: 0  ? Summer  01 !  02 !  03 !  Total  ? Winter  \\\n",
       "0        Afghanistan (AFG)        13     0     0     2      2         0   \n",
       "1            Algeria (ALG)        12     5     2     8     15         3   \n",
       "2          Argentina (ARG)        23    18    24    28     70        18   \n",
       "3            Armenia (ARM)         5     1     2     9     12         6   \n",
       "4  Australasia (ANZ) [ANZ]         2     3     4     5     12         0   \n",
       "\n",
       "   01 !.1  02 !.1  03 !.1  Total.1  ? Games  01 !.2  02 !.2  03 !.2  \\\n",
       "0       0       0       0        0       13       0       0       2   \n",
       "1       0       0       0        0       15       5       2       8   \n",
       "2       0       0       0        0       41      18      24      28   \n",
       "3       0       0       0        0       11       1       2       9   \n",
       "4       0       0       0        0        2       3       4       5   \n",
       "\n",
       "   Combined total  \n",
       "0               2  \n",
       "1              15  \n",
       "2              70  \n",
       "3              12  \n",
       "4              12  "
      ]
     },
     "execution_count": 49,
     "metadata": {},
     "output_type": "execute_result"
    }
   ],
   "source": [
    "olympics.head()"
   ]
  },
  {
   "cell_type": "code",
   "execution_count": 55,
   "metadata": {},
   "outputs": [],
   "source": [
    "#column_names are taken from the source https://en.wikipedia.org/wiki/All-time_Olympic_Games_medal_table\n",
    "column_names = ['Country','No. of Summer Games','Gold','Silver','Bronze','Total'\n",
    "               ,'No. of Winter Games','Gold','Silver','Bronze','Total'\n",
    "               ,'No. of Combined Games','Gold','Silver','Bronze','Combined Total']\n",
    "\n",
    "cols = olympics.columns"
   ]
  },
  {
   "cell_type": "code",
   "execution_count": 78,
   "metadata": {},
   "outputs": [],
   "source": [
    "col_mapper = {}\n",
    "\n",
    "for ele in zip(cols,column_names):\n",
    "    col_mapper[ele[0]] = ele[1]"
   ]
  },
  {
   "cell_type": "markdown",
   "metadata": {},
   "source": [
    "**In below 2 cells, the zip iterator is exhausted after its 1st print.**"
   ]
  },
  {
   "cell_type": "code",
   "execution_count": 80,
   "metadata": {
    "scrolled": true
   },
   "outputs": [
    {
     "name": "stdout",
     "output_type": "stream",
     "text": [
      "('Unnamed: 0', 'Country')\n",
      "('? Summer', 'No. of Summer Games')\n",
      "('01 !', 'Gold')\n",
      "('02 !', 'Silver')\n",
      "('03 !', 'Bronze')\n",
      "('Total', 'Total')\n",
      "('? Winter', 'No. of Winter Games')\n",
      "('01 !.1', 'Gold')\n",
      "('02 !.1', 'Silver')\n",
      "('03 !.1', 'Bronze')\n",
      "('Total.1', 'Total')\n",
      "('? Games', 'No. of Combined Games')\n",
      "('01 !.2', 'Gold')\n",
      "('02 !.2', 'Silver')\n",
      "('03 !.2', 'Bronze')\n",
      "('Combined total', 'Combined Total')\n"
     ]
    }
   ],
   "source": [
    "tup = zip(cols,column_names)\n",
    "for i in tup:\n",
    "    print(i)"
   ]
  },
  {
   "cell_type": "code",
   "execution_count": 82,
   "metadata": {},
   "outputs": [
    {
     "data": {
      "text/plain": [
       "[]"
      ]
     },
     "execution_count": 82,
     "metadata": {},
     "output_type": "execute_result"
    }
   ],
   "source": [
    "list(tup)"
   ]
  },
  {
   "cell_type": "code",
   "execution_count": 84,
   "metadata": {},
   "outputs": [],
   "source": [
    "olympics.rename(col_mapper,axis = 'columns',inplace = True)"
   ]
  },
  {
   "cell_type": "code",
   "execution_count": 87,
   "metadata": {
    "scrolled": true
   },
   "outputs": [
    {
     "data": {
      "text/html": [
       "<div>\n",
       "<style scoped>\n",
       "    .dataframe tbody tr th:only-of-type {\n",
       "        vertical-align: middle;\n",
       "    }\n",
       "\n",
       "    .dataframe tbody tr th {\n",
       "        vertical-align: top;\n",
       "    }\n",
       "\n",
       "    .dataframe thead th {\n",
       "        text-align: right;\n",
       "    }\n",
       "</style>\n",
       "<table border=\"1\" class=\"dataframe\">\n",
       "  <thead>\n",
       "    <tr style=\"text-align: right;\">\n",
       "      <th></th>\n",
       "      <th>Country</th>\n",
       "      <th>No. of Summer Games</th>\n",
       "      <th>Gold</th>\n",
       "      <th>Silver</th>\n",
       "      <th>Bronze</th>\n",
       "      <th>Total</th>\n",
       "      <th>No. of Winter Games</th>\n",
       "      <th>Gold</th>\n",
       "      <th>Silver</th>\n",
       "      <th>Bronze</th>\n",
       "      <th>Total</th>\n",
       "      <th>No. of Combined Games</th>\n",
       "      <th>Gold</th>\n",
       "      <th>Silver</th>\n",
       "      <th>Bronze</th>\n",
       "      <th>Combined Total</th>\n",
       "    </tr>\n",
       "  </thead>\n",
       "  <tbody>\n",
       "    <tr>\n",
       "      <th>122</th>\n",
       "      <td>Syria (SYR)</td>\n",
       "      <td>12</td>\n",
       "      <td>1</td>\n",
       "      <td>1</td>\n",
       "      <td>1</td>\n",
       "      <td>3</td>\n",
       "      <td>0</td>\n",
       "      <td>0</td>\n",
       "      <td>0</td>\n",
       "      <td>0</td>\n",
       "      <td>0</td>\n",
       "      <td>12</td>\n",
       "      <td>1</td>\n",
       "      <td>1</td>\n",
       "      <td>1</td>\n",
       "      <td>3</td>\n",
       "    </tr>\n",
       "    <tr>\n",
       "      <th>91</th>\n",
       "      <td>Niger (NIG)</td>\n",
       "      <td>11</td>\n",
       "      <td>0</td>\n",
       "      <td>0</td>\n",
       "      <td>1</td>\n",
       "      <td>1</td>\n",
       "      <td>0</td>\n",
       "      <td>0</td>\n",
       "      <td>0</td>\n",
       "      <td>0</td>\n",
       "      <td>0</td>\n",
       "      <td>11</td>\n",
       "      <td>0</td>\n",
       "      <td>0</td>\n",
       "      <td>1</td>\n",
       "      <td>1</td>\n",
       "    </tr>\n",
       "    <tr>\n",
       "      <th>61</th>\n",
       "      <td>Iraq (IRQ)</td>\n",
       "      <td>13</td>\n",
       "      <td>0</td>\n",
       "      <td>0</td>\n",
       "      <td>1</td>\n",
       "      <td>1</td>\n",
       "      <td>0</td>\n",
       "      <td>0</td>\n",
       "      <td>0</td>\n",
       "      <td>0</td>\n",
       "      <td>0</td>\n",
       "      <td>13</td>\n",
       "      <td>0</td>\n",
       "      <td>0</td>\n",
       "      <td>1</td>\n",
       "      <td>1</td>\n",
       "    </tr>\n",
       "    <tr>\n",
       "      <th>24</th>\n",
       "      <td>Colombia (COL)</td>\n",
       "      <td>18</td>\n",
       "      <td>2</td>\n",
       "      <td>6</td>\n",
       "      <td>11</td>\n",
       "      <td>19</td>\n",
       "      <td>1</td>\n",
       "      <td>0</td>\n",
       "      <td>0</td>\n",
       "      <td>0</td>\n",
       "      <td>0</td>\n",
       "      <td>19</td>\n",
       "      <td>2</td>\n",
       "      <td>6</td>\n",
       "      <td>11</td>\n",
       "      <td>19</td>\n",
       "    </tr>\n",
       "  </tbody>\n",
       "</table>\n",
       "</div>"
      ],
      "text/plain": [
       "            Country  No. of Summer Games  Gold  Silver  Bronze  Total  \\\n",
       "122     Syria (SYR)                   12     1       1       1      3   \n",
       "91      Niger (NIG)                   11     0       0       1      1   \n",
       "61       Iraq (IRQ)                   13     0       0       1      1   \n",
       "24   Colombia (COL)                   18     2       6      11     19   \n",
       "\n",
       "     No. of Winter Games  Gold  Silver  Bronze  Total  No. of Combined Games  \\\n",
       "122                    0     0       0       0      0                     12   \n",
       "91                     0     0       0       0      0                     11   \n",
       "61                     0     0       0       0      0                     13   \n",
       "24                     1     0       0       0      0                     19   \n",
       "\n",
       "     Gold  Silver  Bronze  Combined Total  \n",
       "122     1       1       1               3  \n",
       "91      0       0       1               1  \n",
       "61      0       0       1               1  \n",
       "24      2       6      11              19  "
      ]
     },
     "execution_count": 87,
     "metadata": {},
     "output_type": "execute_result"
    }
   ],
   "source": [
    "olympics.sample(4)"
   ]
  },
  {
   "cell_type": "markdown",
   "metadata": {},
   "source": [
    "3. **university_towns**"
   ]
  },
  {
   "cell_type": "code",
   "execution_count": 188,
   "metadata": {},
   "outputs": [],
   "source": [
    "file = open(r\"C:\\Users\\kalya\\Desktop\\practise\\data cleaning practise\\Datasets\\university_towns.txt\",'r')"
   ]
  },
  {
   "cell_type": "code",
   "execution_count": 189,
   "metadata": {},
   "outputs": [],
   "source": [
    "list_unis = []\n",
    "for line in file:\n",
    "    if '[edit]' in line:\n",
    "        state = line\n",
    "    else:\n",
    "        list_unis.append((state,line))"
   ]
  },
  {
   "cell_type": "code",
   "execution_count": 193,
   "metadata": {},
   "outputs": [],
   "source": [
    "file.close()"
   ]
  },
  {
   "cell_type": "code",
   "execution_count": 194,
   "metadata": {},
   "outputs": [
    {
     "data": {
      "text/plain": [
       "True"
      ]
     },
     "execution_count": 194,
     "metadata": {},
     "output_type": "execute_result"
    }
   ],
   "source": [
    "file.closed"
   ]
  },
  {
   "cell_type": "code",
   "execution_count": 182,
   "metadata": {},
   "outputs": [],
   "source": [
    "df = pd.DataFrame(list_unis, columns = ['State','University'])"
   ]
  },
  {
   "cell_type": "code",
   "execution_count": 183,
   "metadata": {},
   "outputs": [],
   "source": [
    "df.State = df.State.str[:-7]\n",
    "df.University = df.University.str[:-1]\n",
    "#'\\n' is considered as 1 character in the string. Hence -7 and not -8"
   ]
  },
  {
   "cell_type": "code",
   "execution_count": 195,
   "metadata": {},
   "outputs": [
    {
     "data": {
      "text/html": [
       "<div>\n",
       "<style scoped>\n",
       "    .dataframe tbody tr th:only-of-type {\n",
       "        vertical-align: middle;\n",
       "    }\n",
       "\n",
       "    .dataframe tbody tr th {\n",
       "        vertical-align: top;\n",
       "    }\n",
       "\n",
       "    .dataframe thead th {\n",
       "        text-align: right;\n",
       "    }\n",
       "</style>\n",
       "<table border=\"1\" class=\"dataframe\">\n",
       "  <thead>\n",
       "    <tr style=\"text-align: right;\">\n",
       "      <th></th>\n",
       "      <th>State</th>\n",
       "      <th>University</th>\n",
       "    </tr>\n",
       "  </thead>\n",
       "  <tbody>\n",
       "    <tr>\n",
       "      <th>298</th>\n",
       "      <td>New York</td>\n",
       "      <td>Rochester (University of Rochester, Rochester ...</td>\n",
       "    </tr>\n",
       "    <tr>\n",
       "      <th>250</th>\n",
       "      <td>Nebraska</td>\n",
       "      <td>Wayne (Wayne State College)[2]</td>\n",
       "    </tr>\n",
       "    <tr>\n",
       "      <th>20</th>\n",
       "      <td>California</td>\n",
       "      <td>Arcata (Humboldt State University)[5]</td>\n",
       "    </tr>\n",
       "    <tr>\n",
       "      <th>237</th>\n",
       "      <td>Missouri</td>\n",
       "      <td>Kirksville (Truman State University, A. T. Sti...</td>\n",
       "    </tr>\n",
       "    <tr>\n",
       "      <th>150</th>\n",
       "      <td>Louisiana</td>\n",
       "      <td>Lafayette (University of Louisiana at Lafayette)</td>\n",
       "    </tr>\n",
       "  </tbody>\n",
       "</table>\n",
       "</div>"
      ],
      "text/plain": [
       "          State                                         University\n",
       "298    New York  Rochester (University of Rochester, Rochester ...\n",
       "250    Nebraska                     Wayne (Wayne State College)[2]\n",
       "20   California              Arcata (Humboldt State University)[5]\n",
       "237    Missouri  Kirksville (Truman State University, A. T. Sti...\n",
       "150   Louisiana   Lafayette (University of Louisiana at Lafayette)"
      ]
     },
     "execution_count": 195,
     "metadata": {},
     "output_type": "execute_result"
    }
   ],
   "source": [
    "df.sample(5)"
   ]
  }
 ],
 "metadata": {
  "kernelspec": {
   "display_name": "Python 3",
   "language": "python",
   "name": "python3"
  },
  "language_info": {
   "codemirror_mode": {
    "name": "ipython",
    "version": 3
   },
   "file_extension": ".py",
   "mimetype": "text/x-python",
   "name": "python",
   "nbconvert_exporter": "python",
   "pygments_lexer": "ipython3",
   "version": "3.7.0"
  }
 },
 "nbformat": 4,
 "nbformat_minor": 2
}
