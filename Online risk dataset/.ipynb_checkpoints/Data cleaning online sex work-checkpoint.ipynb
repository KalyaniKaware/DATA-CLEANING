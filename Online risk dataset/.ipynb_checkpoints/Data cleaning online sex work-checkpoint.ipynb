{
 "cells": [
  {
   "cell_type": "code",
   "execution_count": 749,
   "metadata": {},
   "outputs": [],
   "source": [
    "import numpy as np\n",
    "import pandas as pd\n",
    "import seaborn as sns"
   ]
  },
  {
   "cell_type": "code",
   "execution_count": 750,
   "metadata": {},
   "outputs": [],
   "source": [
    "data = pd.read_csv(r\"C:\\Users\\kalya\\Desktop\\Study material\\DATA CLEANING\\online risk dataset\\online_sex_work.csv\",low_memory=False, header = 0)"
   ]
  },
  {
   "cell_type": "code",
   "execution_count": 751,
   "metadata": {},
   "outputs": [],
   "source": [
    "data = data.iloc[:28831,:]"
   ]
  },
  {
   "cell_type": "code",
   "execution_count": 752,
   "metadata": {},
   "outputs": [
    {
     "data": {
      "text/plain": [
       "(28831, 18)"
      ]
     },
     "execution_count": 752,
     "metadata": {},
     "output_type": "execute_result"
    }
   ],
   "source": [
    "data.shape"
   ]
  },
  {
   "cell_type": "code",
   "execution_count": 753,
   "metadata": {},
   "outputs": [
    {
     "data": {
      "text/html": [
       "<div>\n",
       "<style scoped>\n",
       "    .dataframe tbody tr th:only-of-type {\n",
       "        vertical-align: middle;\n",
       "    }\n",
       "\n",
       "    .dataframe tbody tr th {\n",
       "        vertical-align: top;\n",
       "    }\n",
       "\n",
       "    .dataframe thead th {\n",
       "        text-align: right;\n",
       "    }\n",
       "</style>\n",
       "<table border=\"1\" class=\"dataframe\">\n",
       "  <thead>\n",
       "    <tr style=\"text-align: right;\">\n",
       "      <th></th>\n",
       "      <th>User_ID</th>\n",
       "      <th>Gender</th>\n",
       "      <th>Age</th>\n",
       "      <th>Location</th>\n",
       "      <th>Verification</th>\n",
       "      <th>Sexual_orientation</th>\n",
       "      <th>Sexual_polarity</th>\n",
       "      <th>Looking_for</th>\n",
       "      <th>Points_Rank</th>\n",
       "      <th>Last_login</th>\n",
       "      <th>Member_since</th>\n",
       "      <th>Number_of_Comments_in_public_forum</th>\n",
       "      <th>Time_spent_chating_H:M</th>\n",
       "      <th>Number_of_advertisments_posted</th>\n",
       "      <th>Number_of_offline_meetings_attended</th>\n",
       "      <th>Profile_pictures</th>\n",
       "      <th>Friends_ID_list</th>\n",
       "      <th>Risk</th>\n",
       "    </tr>\n",
       "  </thead>\n",
       "  <tbody>\n",
       "    <tr>\n",
       "      <th>count</th>\n",
       "      <td>28831.000000</td>\n",
       "      <td>28827</td>\n",
       "      <td>28831</td>\n",
       "      <td>28830</td>\n",
       "      <td>28831</td>\n",
       "      <td>28830</td>\n",
       "      <td>28830</td>\n",
       "      <td>28406</td>\n",
       "      <td>28831</td>\n",
       "      <td>28831</td>\n",
       "      <td>28831</td>\n",
       "      <td>28831</td>\n",
       "      <td>28831</td>\n",
       "      <td>28831.000000</td>\n",
       "      <td>28831.000000</td>\n",
       "      <td>28831.000000</td>\n",
       "      <td>3313</td>\n",
       "      <td>28831</td>\n",
       "    </tr>\n",
       "    <tr>\n",
       "      <th>unique</th>\n",
       "      <td>NaN</td>\n",
       "      <td>2</td>\n",
       "      <td>526</td>\n",
       "      <td>18</td>\n",
       "      <td>3</td>\n",
       "      <td>4</td>\n",
       "      <td>3</td>\n",
       "      <td>5</td>\n",
       "      <td>376</td>\n",
       "      <td>2360</td>\n",
       "      <td>2629</td>\n",
       "      <td>217</td>\n",
       "      <td>1199</td>\n",
       "      <td>NaN</td>\n",
       "      <td>NaN</td>\n",
       "      <td>NaN</td>\n",
       "      <td>2742</td>\n",
       "      <td>3</td>\n",
       "    </tr>\n",
       "    <tr>\n",
       "      <th>top</th>\n",
       "      <td>NaN</td>\n",
       "      <td>male</td>\n",
       "      <td>37,3</td>\n",
       "      <td>A</td>\n",
       "      <td>Non_Verified</td>\n",
       "      <td>Heterosexual</td>\n",
       "      <td>Submisive</td>\n",
       "      <td>Nobody</td>\n",
       "      <td>0</td>\n",
       "      <td>before_1_days</td>\n",
       "      <td>1.7.2012</td>\n",
       "      <td>0</td>\n",
       "      <td>0:0</td>\n",
       "      <td>NaN</td>\n",
       "      <td>NaN</td>\n",
       "      <td>NaN</td>\n",
       "      <td>22639</td>\n",
       "      <td>unknown_risk</td>\n",
       "    </tr>\n",
       "    <tr>\n",
       "      <th>freq</th>\n",
       "      <td>NaN</td>\n",
       "      <td>22382</td>\n",
       "      <td>264</td>\n",
       "      <td>10944</td>\n",
       "      <td>28228</td>\n",
       "      <td>20441</td>\n",
       "      <td>10878</td>\n",
       "      <td>19928</td>\n",
       "      <td>19931</td>\n",
       "      <td>1392</td>\n",
       "      <td>110</td>\n",
       "      <td>25933</td>\n",
       "      <td>22824</td>\n",
       "      <td>NaN</td>\n",
       "      <td>NaN</td>\n",
       "      <td>NaN</td>\n",
       "      <td>23</td>\n",
       "      <td>28741</td>\n",
       "    </tr>\n",
       "    <tr>\n",
       "      <th>mean</th>\n",
       "      <td>24150.659637</td>\n",
       "      <td>NaN</td>\n",
       "      <td>NaN</td>\n",
       "      <td>NaN</td>\n",
       "      <td>NaN</td>\n",
       "      <td>NaN</td>\n",
       "      <td>NaN</td>\n",
       "      <td>NaN</td>\n",
       "      <td>NaN</td>\n",
       "      <td>NaN</td>\n",
       "      <td>NaN</td>\n",
       "      <td>NaN</td>\n",
       "      <td>NaN</td>\n",
       "      <td>0.171413</td>\n",
       "      <td>0.042073</td>\n",
       "      <td>0.436301</td>\n",
       "      <td>NaN</td>\n",
       "      <td>NaN</td>\n",
       "    </tr>\n",
       "    <tr>\n",
       "      <th>std</th>\n",
       "      <td>14051.610199</td>\n",
       "      <td>NaN</td>\n",
       "      <td>NaN</td>\n",
       "      <td>NaN</td>\n",
       "      <td>NaN</td>\n",
       "      <td>NaN</td>\n",
       "      <td>NaN</td>\n",
       "      <td>NaN</td>\n",
       "      <td>NaN</td>\n",
       "      <td>NaN</td>\n",
       "      <td>NaN</td>\n",
       "      <td>NaN</td>\n",
       "      <td>NaN</td>\n",
       "      <td>0.608099</td>\n",
       "      <td>0.440019</td>\n",
       "      <td>3.095367</td>\n",
       "      <td>NaN</td>\n",
       "      <td>NaN</td>\n",
       "    </tr>\n",
       "    <tr>\n",
       "      <th>min</th>\n",
       "      <td>1.000000</td>\n",
       "      <td>NaN</td>\n",
       "      <td>NaN</td>\n",
       "      <td>NaN</td>\n",
       "      <td>NaN</td>\n",
       "      <td>NaN</td>\n",
       "      <td>NaN</td>\n",
       "      <td>NaN</td>\n",
       "      <td>NaN</td>\n",
       "      <td>NaN</td>\n",
       "      <td>NaN</td>\n",
       "      <td>NaN</td>\n",
       "      <td>NaN</td>\n",
       "      <td>0.000000</td>\n",
       "      <td>0.000000</td>\n",
       "      <td>0.000000</td>\n",
       "      <td>NaN</td>\n",
       "      <td>NaN</td>\n",
       "    </tr>\n",
       "    <tr>\n",
       "      <th>25%</th>\n",
       "      <td>11895.500000</td>\n",
       "      <td>NaN</td>\n",
       "      <td>NaN</td>\n",
       "      <td>NaN</td>\n",
       "      <td>NaN</td>\n",
       "      <td>NaN</td>\n",
       "      <td>NaN</td>\n",
       "      <td>NaN</td>\n",
       "      <td>NaN</td>\n",
       "      <td>NaN</td>\n",
       "      <td>NaN</td>\n",
       "      <td>NaN</td>\n",
       "      <td>NaN</td>\n",
       "      <td>0.000000</td>\n",
       "      <td>0.000000</td>\n",
       "      <td>0.000000</td>\n",
       "      <td>NaN</td>\n",
       "      <td>NaN</td>\n",
       "    </tr>\n",
       "    <tr>\n",
       "      <th>50%</th>\n",
       "      <td>23754.000000</td>\n",
       "      <td>NaN</td>\n",
       "      <td>NaN</td>\n",
       "      <td>NaN</td>\n",
       "      <td>NaN</td>\n",
       "      <td>NaN</td>\n",
       "      <td>NaN</td>\n",
       "      <td>NaN</td>\n",
       "      <td>NaN</td>\n",
       "      <td>NaN</td>\n",
       "      <td>NaN</td>\n",
       "      <td>NaN</td>\n",
       "      <td>NaN</td>\n",
       "      <td>0.000000</td>\n",
       "      <td>0.000000</td>\n",
       "      <td>0.000000</td>\n",
       "      <td>NaN</td>\n",
       "      <td>NaN</td>\n",
       "    </tr>\n",
       "    <tr>\n",
       "      <th>75%</th>\n",
       "      <td>36450.000000</td>\n",
       "      <td>NaN</td>\n",
       "      <td>NaN</td>\n",
       "      <td>NaN</td>\n",
       "      <td>NaN</td>\n",
       "      <td>NaN</td>\n",
       "      <td>NaN</td>\n",
       "      <td>NaN</td>\n",
       "      <td>NaN</td>\n",
       "      <td>NaN</td>\n",
       "      <td>NaN</td>\n",
       "      <td>NaN</td>\n",
       "      <td>NaN</td>\n",
       "      <td>0.000000</td>\n",
       "      <td>0.000000</td>\n",
       "      <td>0.000000</td>\n",
       "      <td>NaN</td>\n",
       "      <td>NaN</td>\n",
       "    </tr>\n",
       "    <tr>\n",
       "      <th>max</th>\n",
       "      <td>48606.000000</td>\n",
       "      <td>NaN</td>\n",
       "      <td>NaN</td>\n",
       "      <td>NaN</td>\n",
       "      <td>NaN</td>\n",
       "      <td>NaN</td>\n",
       "      <td>NaN</td>\n",
       "      <td>NaN</td>\n",
       "      <td>NaN</td>\n",
       "      <td>NaN</td>\n",
       "      <td>NaN</td>\n",
       "      <td>NaN</td>\n",
       "      <td>NaN</td>\n",
       "      <td>21.000000</td>\n",
       "      <td>23.000000</td>\n",
       "      <td>147.000000</td>\n",
       "      <td>NaN</td>\n",
       "      <td>NaN</td>\n",
       "    </tr>\n",
       "  </tbody>\n",
       "</table>\n",
       "</div>"
      ],
      "text/plain": [
       "             User_ID Gender    Age Location  Verification Sexual_orientation  \\\n",
       "count   28831.000000  28827  28831    28830         28831              28830   \n",
       "unique           NaN      2    526       18             3                  4   \n",
       "top              NaN   male   37,3        A  Non_Verified       Heterosexual   \n",
       "freq             NaN  22382    264    10944         28228              20441   \n",
       "mean    24150.659637    NaN    NaN      NaN           NaN                NaN   \n",
       "std     14051.610199    NaN    NaN      NaN           NaN                NaN   \n",
       "min         1.000000    NaN    NaN      NaN           NaN                NaN   \n",
       "25%     11895.500000    NaN    NaN      NaN           NaN                NaN   \n",
       "50%     23754.000000    NaN    NaN      NaN           NaN                NaN   \n",
       "75%     36450.000000    NaN    NaN      NaN           NaN                NaN   \n",
       "max     48606.000000    NaN    NaN      NaN           NaN                NaN   \n",
       "\n",
       "       Sexual_polarity Looking_for Points_Rank     Last_login Member_since  \\\n",
       "count            28830       28406       28831          28831        28831   \n",
       "unique               3           5         376           2360         2629   \n",
       "top          Submisive      Nobody           0  before_1_days     1.7.2012   \n",
       "freq             10878       19928       19931           1392          110   \n",
       "mean               NaN         NaN         NaN            NaN          NaN   \n",
       "std                NaN         NaN         NaN            NaN          NaN   \n",
       "min                NaN         NaN         NaN            NaN          NaN   \n",
       "25%                NaN         NaN         NaN            NaN          NaN   \n",
       "50%                NaN         NaN         NaN            NaN          NaN   \n",
       "75%                NaN         NaN         NaN            NaN          NaN   \n",
       "max                NaN         NaN         NaN            NaN          NaN   \n",
       "\n",
       "       Number_of_Comments_in_public_forum Time_spent_chating_H:M  \\\n",
       "count                               28831                  28831   \n",
       "unique                                217                   1199   \n",
       "top                                     0                    0:0   \n",
       "freq                                25933                  22824   \n",
       "mean                                  NaN                    NaN   \n",
       "std                                   NaN                    NaN   \n",
       "min                                   NaN                    NaN   \n",
       "25%                                   NaN                    NaN   \n",
       "50%                                   NaN                    NaN   \n",
       "75%                                   NaN                    NaN   \n",
       "max                                   NaN                    NaN   \n",
       "\n",
       "        Number_of_advertisments_posted  Number_of_offline_meetings_attended  \\\n",
       "count                     28831.000000                         28831.000000   \n",
       "unique                             NaN                                  NaN   \n",
       "top                                NaN                                  NaN   \n",
       "freq                               NaN                                  NaN   \n",
       "mean                          0.171413                             0.042073   \n",
       "std                           0.608099                             0.440019   \n",
       "min                           0.000000                             0.000000   \n",
       "25%                           0.000000                             0.000000   \n",
       "50%                           0.000000                             0.000000   \n",
       "75%                           0.000000                             0.000000   \n",
       "max                          21.000000                            23.000000   \n",
       "\n",
       "        Profile_pictures Friends_ID_list          Risk  \n",
       "count       28831.000000            3313         28831  \n",
       "unique               NaN            2742             3  \n",
       "top                  NaN           22639  unknown_risk  \n",
       "freq                 NaN              23         28741  \n",
       "mean            0.436301             NaN           NaN  \n",
       "std             3.095367             NaN           NaN  \n",
       "min             0.000000             NaN           NaN  \n",
       "25%             0.000000             NaN           NaN  \n",
       "50%             0.000000             NaN           NaN  \n",
       "75%             0.000000             NaN           NaN  \n",
       "max           147.000000             NaN           NaN  "
      ]
     },
     "execution_count": 753,
     "metadata": {},
     "output_type": "execute_result"
    }
   ],
   "source": [
    "data.describe(include = 'all')"
   ]
  },
  {
   "cell_type": "code",
   "execution_count": 754,
   "metadata": {},
   "outputs": [
    {
     "data": {
      "text/plain": [
       "User_ID                                float64\n",
       "Gender                                  object\n",
       "Age                                     object\n",
       "Location                                object\n",
       "Verification                            object\n",
       "Sexual_orientation                      object\n",
       "Sexual_polarity                         object\n",
       "Looking_for                             object\n",
       "Points_Rank                             object\n",
       "Last_login                              object\n",
       "Member_since                            object\n",
       "Number_of_Comments_in_public_forum      object\n",
       "Time_spent_chating_H:M                  object\n",
       "Number_of_advertisments_posted         float64\n",
       "Number_of_offline_meetings_attended    float64\n",
       "Profile_pictures                       float64\n",
       "Friends_ID_list                         object\n",
       "Risk                                    object\n",
       "dtype: object"
      ]
     },
     "execution_count": 754,
     "metadata": {},
     "output_type": "execute_result"
    }
   ],
   "source": [
    "data.dtypes"
   ]
  },
  {
   "cell_type": "code",
   "execution_count": 755,
   "metadata": {},
   "outputs": [
    {
     "data": {
      "text/html": [
       "<div>\n",
       "<style scoped>\n",
       "    .dataframe tbody tr th:only-of-type {\n",
       "        vertical-align: middle;\n",
       "    }\n",
       "\n",
       "    .dataframe tbody tr th {\n",
       "        vertical-align: top;\n",
       "    }\n",
       "\n",
       "    .dataframe thead th {\n",
       "        text-align: right;\n",
       "    }\n",
       "</style>\n",
       "<table border=\"1\" class=\"dataframe\">\n",
       "  <thead>\n",
       "    <tr style=\"text-align: right;\">\n",
       "      <th></th>\n",
       "      <th>User_ID</th>\n",
       "      <th>Gender</th>\n",
       "      <th>Age</th>\n",
       "      <th>Location</th>\n",
       "      <th>Verification</th>\n",
       "      <th>Sexual_orientation</th>\n",
       "      <th>Sexual_polarity</th>\n",
       "      <th>Looking_for</th>\n",
       "      <th>Points_Rank</th>\n",
       "      <th>Last_login</th>\n",
       "      <th>Member_since</th>\n",
       "      <th>Number_of_Comments_in_public_forum</th>\n",
       "      <th>Time_spent_chating_H:M</th>\n",
       "      <th>Number_of_advertisments_posted</th>\n",
       "      <th>Number_of_offline_meetings_attended</th>\n",
       "      <th>Profile_pictures</th>\n",
       "      <th>Friends_ID_list</th>\n",
       "      <th>Risk</th>\n",
       "    </tr>\n",
       "  </thead>\n",
       "  <tbody>\n",
       "    <tr>\n",
       "      <th>19478</th>\n",
       "      <td>39154.0</td>\n",
       "      <td>male</td>\n",
       "      <td>20,9</td>\n",
       "      <td>J</td>\n",
       "      <td>Non_Verified</td>\n",
       "      <td>Heterosexual</td>\n",
       "      <td>Dominant</td>\n",
       "      <td>Nobody</td>\n",
       "      <td>0</td>\n",
       "      <td>before_4_days</td>\n",
       "      <td>23.12.2015</td>\n",
       "      <td>0</td>\n",
       "      <td>0:0</td>\n",
       "      <td>0.0</td>\n",
       "      <td>0.0</td>\n",
       "      <td>0.0</td>\n",
       "      <td>NaN</td>\n",
       "      <td>unknown_risk</td>\n",
       "    </tr>\n",
       "    <tr>\n",
       "      <th>5405</th>\n",
       "      <td>1802.0</td>\n",
       "      <td>male</td>\n",
       "      <td>62,9</td>\n",
       "      <td>K</td>\n",
       "      <td>Non_Verified</td>\n",
       "      <td>Heterosexual</td>\n",
       "      <td>Dominant</td>\n",
       "      <td>Nobody</td>\n",
       "      <td>0</td>\n",
       "      <td>before_1076_days</td>\n",
       "      <td>31.10.2010</td>\n",
       "      <td>0</td>\n",
       "      <td>0:0</td>\n",
       "      <td>0.0</td>\n",
       "      <td>0.0</td>\n",
       "      <td>0.0</td>\n",
       "      <td>NaN</td>\n",
       "      <td>unknown_risk</td>\n",
       "    </tr>\n",
       "    <tr>\n",
       "      <th>9745</th>\n",
       "      <td>2448.0</td>\n",
       "      <td>female</td>\n",
       "      <td>27,8</td>\n",
       "      <td>B</td>\n",
       "      <td>Non_Verified</td>\n",
       "      <td>Heterosexual</td>\n",
       "      <td>Submisive</td>\n",
       "      <td>Nobody</td>\n",
       "      <td>0</td>\n",
       "      <td>before_2251_days</td>\n",
       "      <td>1.3.2011</td>\n",
       "      <td>0</td>\n",
       "      <td>0:0</td>\n",
       "      <td>0.0</td>\n",
       "      <td>0.0</td>\n",
       "      <td>0.0</td>\n",
       "      <td>NaN</td>\n",
       "      <td>unknown_risk</td>\n",
       "    </tr>\n",
       "    <tr>\n",
       "      <th>4377</th>\n",
       "      <td>16550.0</td>\n",
       "      <td>female</td>\n",
       "      <td>35,9</td>\n",
       "      <td>L</td>\n",
       "      <td>Non_Verified</td>\n",
       "      <td>bicurious</td>\n",
       "      <td>Switch</td>\n",
       "      <td>Nobody</td>\n",
       "      <td>50</td>\n",
       "      <td>before_1493_days</td>\n",
       "      <td>27.3.2013</td>\n",
       "      <td>0</td>\n",
       "      <td>0:0</td>\n",
       "      <td>0.0</td>\n",
       "      <td>0.0</td>\n",
       "      <td>0.0</td>\n",
       "      <td>NaN</td>\n",
       "      <td>unknown_risk</td>\n",
       "    </tr>\n",
       "  </tbody>\n",
       "</table>\n",
       "</div>"
      ],
      "text/plain": [
       "       User_ID  Gender   Age Location  Verification Sexual_orientation  \\\n",
       "19478  39154.0    male  20,9        J  Non_Verified       Heterosexual   \n",
       "5405    1802.0    male  62,9        K  Non_Verified       Heterosexual   \n",
       "9745    2448.0  female  27,8        B  Non_Verified       Heterosexual   \n",
       "4377   16550.0  female  35,9        L  Non_Verified          bicurious   \n",
       "\n",
       "      Sexual_polarity Looking_for Points_Rank        Last_login Member_since  \\\n",
       "19478        Dominant      Nobody           0     before_4_days   23.12.2015   \n",
       "5405         Dominant      Nobody           0  before_1076_days   31.10.2010   \n",
       "9745        Submisive      Nobody           0  before_2251_days     1.3.2011   \n",
       "4377           Switch      Nobody          50  before_1493_days    27.3.2013   \n",
       "\n",
       "      Number_of_Comments_in_public_forum Time_spent_chating_H:M  \\\n",
       "19478                                  0                    0:0   \n",
       "5405                                   0                    0:0   \n",
       "9745                                   0                    0:0   \n",
       "4377                                   0                    0:0   \n",
       "\n",
       "       Number_of_advertisments_posted  Number_of_offline_meetings_attended  \\\n",
       "19478                             0.0                                  0.0   \n",
       "5405                              0.0                                  0.0   \n",
       "9745                              0.0                                  0.0   \n",
       "4377                              0.0                                  0.0   \n",
       "\n",
       "       Profile_pictures Friends_ID_list          Risk  \n",
       "19478               0.0             NaN  unknown_risk  \n",
       "5405                0.0             NaN  unknown_risk  \n",
       "9745                0.0             NaN  unknown_risk  \n",
       "4377                0.0             NaN  unknown_risk  "
      ]
     },
     "execution_count": 755,
     "metadata": {},
     "output_type": "execute_result"
    }
   ],
   "source": [
    "data.sample(4)"
   ]
  },
  {
   "cell_type": "code",
   "execution_count": 836,
   "metadata": {},
   "outputs": [
    {
     "data": {
      "text/plain": [
       "User_ID                                    0\n",
       "Gender                                     0\n",
       "Age                                        0\n",
       "Verified                                   0\n",
       "Heterosexual                               0\n",
       "Homosexual                                 0\n",
       "bicurious                                  0\n",
       "bisexual                                   0\n",
       "Dominant                                   0\n",
       "Submisive                                  0\n",
       "Switch                                     0\n",
       "Men                                        0\n",
       "Men_and_Women                              0\n",
       "Women                                      0\n",
       "Points_Rank                                0\n",
       "Last_login_before_days                     0\n",
       "Member_since_year                          0\n",
       "Member_since_month                         0\n",
       "Member_since_day                           0\n",
       "Number_of_Comments_in_public_forum         0\n",
       "Minutes_spent_chatting                     0\n",
       "Number_of_advertisments_posted             0\n",
       "Number_of_offline_meetings_attended        0\n",
       "Profile_pictures                           0\n",
       "No_of_friends                              0\n",
       "Risk                                   28737\n",
       "dtype: int64"
      ]
     },
     "execution_count": 836,
     "metadata": {},
     "output_type": "execute_result"
    }
   ],
   "source": [
    "data.isna().sum()"
   ]
  },
  {
   "cell_type": "markdown",
   "metadata": {},
   "source": [
    "### User_ID"
   ]
  },
  {
   "cell_type": "code",
   "execution_count": 757,
   "metadata": {},
   "outputs": [],
   "source": [
    "data.User_ID = data.User_ID.astype(int)"
   ]
  },
  {
   "cell_type": "markdown",
   "metadata": {},
   "source": [
    "### Gender"
   ]
  },
  {
   "cell_type": "code",
   "execution_count": 758,
   "metadata": {},
   "outputs": [
    {
     "data": {
      "text/plain": [
       "male      22382\n",
       "female     6445\n",
       "NaN           4\n",
       "Name: Gender, dtype: int64"
      ]
     },
     "execution_count": 758,
     "metadata": {},
     "output_type": "execute_result"
    }
   ],
   "source": [
    "data.Gender.value_counts(dropna = False)"
   ]
  },
  {
   "cell_type": "code",
   "execution_count": 759,
   "metadata": {},
   "outputs": [
    {
     "data": {
      "text/plain": [
       "Int64Index([13065, 14236, 17589, 22927], dtype='int64')"
      ]
     },
     "execution_count": 759,
     "metadata": {},
     "output_type": "execute_result"
    }
   ],
   "source": [
    "data[data['Gender'].isna()].index"
   ]
  },
  {
   "cell_type": "code",
   "execution_count": 760,
   "metadata": {},
   "outputs": [],
   "source": [
    "data.drop(axis = 0,labels = [13065, 14236, 17589, 22927], inplace = True)"
   ]
  },
  {
   "cell_type": "markdown",
   "metadata": {},
   "source": []
  },
  {
   "cell_type": "markdown",
   "metadata": {},
   "source": [
    "### Age"
   ]
  },
  {
   "cell_type": "code",
   "execution_count": 761,
   "metadata": {},
   "outputs": [],
   "source": [
    "data.Age = data.Age.astype('str')"
   ]
  },
  {
   "cell_type": "code",
   "execution_count": 762,
   "metadata": {},
   "outputs": [],
   "source": [
    "data.Age = data.Age.apply(lambda x: x.replace(',','.'))\n",
    "data.Age = data.Age.replace('???',np.nan)"
   ]
  },
  {
   "cell_type": "code",
   "execution_count": 763,
   "metadata": {},
   "outputs": [],
   "source": [
    "data.Age = data.Age.astype('float')"
   ]
  },
  {
   "cell_type": "code",
   "execution_count": 764,
   "metadata": {},
   "outputs": [
    {
     "data": {
      "text/plain": [
       "<matplotlib.axes._subplots.AxesSubplot at 0x1e985dc8e80>"
      ]
     },
     "execution_count": 764,
     "metadata": {},
     "output_type": "execute_result"
    },
    {
     "data": {
      "image/png": "[encoded data removed]",
      "text/plain": [
       "<Figure size 432x288 with 1 Axes>"
      ]
     },
     "metadata": {
      "needs_background": "light"
     },
     "output_type": "display_data"
    }
   ],
   "source": [
    "sns.distplot(a = data.Age.dropna())"
   ]
  },
  {
   "cell_type": "code",
   "execution_count": 765,
   "metadata": {},
   "outputs": [
    {
     "data": {
      "text/plain": [
       "<matplotlib.axes._subplots.AxesSubplot at 0x1e985e04748>"
      ]
     },
     "execution_count": 765,
     "metadata": {},
     "output_type": "execute_result"
    },
    {
     "data": {
      "image/png": "[encoded data removed]",
      "text/plain": [
       "<Figure size 432x288 with 1 Axes>"
      ]
     },
     "metadata": {
      "needs_background": "light"
     },
     "output_type": "display_data"
    }
   ],
   "source": [
    "data.Age.fillna(data.Age.mean(), inplace=True)\n",
    "sns.distplot(a = data.Age)"
   ]
  },
  {
   "cell_type": "markdown",
   "metadata": {},
   "source": [
    "### Location"
   ]
  },
  {
   "cell_type": "code",
   "execution_count": 766,
   "metadata": {},
   "outputs": [
    {
     "data": {
      "text/plain": [
       "A                     10944\n",
       "B                      3571\n",
       "G                      2211\n",
       "L                      2209\n",
       "M                      1260\n",
       "K                      1209\n",
       "C                      1176\n",
       "H                      1167\n",
       "E                       950\n",
       "O                       892\n",
       "J                       849\n",
       "F                       822\n",
       "N                       623\n",
       "S                       484\n",
       "D                       455\n",
       "A kraj                    2\n",
       "Jihomoravsk_ý kraj        1\n",
       "South Moravian            1\n",
       "NaN                       1\n",
       "Name: Location, dtype: int64"
      ]
     },
     "execution_count": 766,
     "metadata": {},
     "output_type": "execute_result"
    }
   ],
   "source": [
    "data.Location.value_counts(dropna=False)"
   ]
  },
  {
   "cell_type": "code",
   "execution_count": 767,
   "metadata": {},
   "outputs": [],
   "source": [
    "data.drop(columns = 'Location', inplace = True)"
   ]
  },
  {
   "cell_type": "markdown",
   "metadata": {},
   "source": [
    "### Verification"
   ]
  },
  {
   "cell_type": "code",
   "execution_count": 768,
   "metadata": {},
   "outputs": [
    {
     "data": {
      "text/plain": [
       "array(['Non_Verified', 'Verified', 'Administrator'], dtype=object)"
      ]
     },
     "execution_count": 768,
     "metadata": {},
     "output_type": "execute_result"
    }
   ],
   "source": [
    "data.Verification.unique()"
   ]
  },
  {
   "cell_type": "code",
   "execution_count": 769,
   "metadata": {},
   "outputs": [
    {
     "data": {
      "text/html": [
       "<div>\n",
       "<style scoped>\n",
       "    .dataframe tbody tr th:only-of-type {\n",
       "        vertical-align: middle;\n",
       "    }\n",
       "\n",
       "    .dataframe tbody tr th {\n",
       "        vertical-align: top;\n",
       "    }\n",
       "\n",
       "    .dataframe thead th {\n",
       "        text-align: right;\n",
       "    }\n",
       "</style>\n",
       "<table border=\"1\" class=\"dataframe\">\n",
       "  <thead>\n",
       "    <tr style=\"text-align: right;\">\n",
       "      <th></th>\n",
       "      <th>User_ID</th>\n",
       "      <th>Gender</th>\n",
       "      <th>Age</th>\n",
       "      <th>Verification</th>\n",
       "      <th>Sexual_orientation</th>\n",
       "      <th>Sexual_polarity</th>\n",
       "      <th>Looking_for</th>\n",
       "      <th>Points_Rank</th>\n",
       "      <th>Last_login</th>\n",
       "      <th>Member_since</th>\n",
       "      <th>Number_of_Comments_in_public_forum</th>\n",
       "      <th>Time_spent_chating_H:M</th>\n",
       "      <th>Number_of_advertisments_posted</th>\n",
       "      <th>Number_of_offline_meetings_attended</th>\n",
       "      <th>Profile_pictures</th>\n",
       "      <th>Friends_ID_list</th>\n",
       "      <th>Risk</th>\n",
       "    </tr>\n",
       "  </thead>\n",
       "  <tbody>\n",
       "    <tr>\n",
       "      <th>89</th>\n",
       "      <td>1</td>\n",
       "      <td>male</td>\n",
       "      <td>32.4</td>\n",
       "      <td>Administrator</td>\n",
       "      <td>NaN</td>\n",
       "      <td>NaN</td>\n",
       "      <td>Nobody</td>\n",
       "      <td>664</td>\n",
       "      <td>before_1_days</td>\n",
       "      <td>10.5.2009</td>\n",
       "      <td>1 275</td>\n",
       "      <td>271:14</td>\n",
       "      <td>0.0</td>\n",
       "      <td>0.0</td>\n",
       "      <td>0.0</td>\n",
       "      <td>6597,5245,19410,4813,4808,21557,6493,225</td>\n",
       "      <td>High_risk</td>\n",
       "    </tr>\n",
       "  </tbody>\n",
       "</table>\n",
       "</div>"
      ],
      "text/plain": [
       "    User_ID Gender   Age   Verification Sexual_orientation Sexual_polarity  \\\n",
       "89        1   male  32.4  Administrator                NaN             NaN   \n",
       "\n",
       "   Looking_for Points_Rank     Last_login Member_since  \\\n",
       "89      Nobody         664  before_1_days    10.5.2009   \n",
       "\n",
       "   Number_of_Comments_in_public_forum Time_spent_chating_H:M  \\\n",
       "89                              1 275                 271:14   \n",
       "\n",
       "    Number_of_advertisments_posted  Number_of_offline_meetings_attended  \\\n",
       "89                             0.0                                  0.0   \n",
       "\n",
       "    Profile_pictures                           Friends_ID_list       Risk  \n",
       "89               0.0  6597,5245,19410,4813,4808,21557,6493,225  High_risk  "
      ]
     },
     "execution_count": 769,
     "metadata": {},
     "output_type": "execute_result"
    }
   ],
   "source": [
    "data[data['Verification'] == 'Administrator']"
   ]
  },
  {
   "cell_type": "markdown",
   "metadata": {},
   "source": [
    "Deleting administrator data from database"
   ]
  },
  {
   "cell_type": "code",
   "execution_count": 770,
   "metadata": {},
   "outputs": [],
   "source": [
    "data.drop(index = 89, inplace = True)"
   ]
  },
  {
   "cell_type": "code",
   "execution_count": 771,
   "metadata": {},
   "outputs": [],
   "source": [
    "Verified = data.Verification.apply(lambda x: 0 if x == 'Non_Verified' else 1)"
   ]
  },
  {
   "cell_type": "code",
   "execution_count": 772,
   "metadata": {},
   "outputs": [],
   "source": [
    "data.insert(4, 'Verified',Verified)"
   ]
  },
  {
   "cell_type": "code",
   "execution_count": 773,
   "metadata": {},
   "outputs": [
    {
     "data": {
      "text/html": [
       "<div>\n",
       "<style scoped>\n",
       "    .dataframe tbody tr th:only-of-type {\n",
       "        vertical-align: middle;\n",
       "    }\n",
       "\n",
       "    .dataframe tbody tr th {\n",
       "        vertical-align: top;\n",
       "    }\n",
       "\n",
       "    .dataframe thead th {\n",
       "        text-align: right;\n",
       "    }\n",
       "</style>\n",
       "<table border=\"1\" class=\"dataframe\">\n",
       "  <thead>\n",
       "    <tr style=\"text-align: right;\">\n",
       "      <th></th>\n",
       "      <th>User_ID</th>\n",
       "      <th>Gender</th>\n",
       "      <th>Age</th>\n",
       "      <th>Verification</th>\n",
       "      <th>Verified</th>\n",
       "      <th>Sexual_orientation</th>\n",
       "      <th>Sexual_polarity</th>\n",
       "      <th>Looking_for</th>\n",
       "      <th>Points_Rank</th>\n",
       "      <th>Last_login</th>\n",
       "      <th>Member_since</th>\n",
       "      <th>Number_of_Comments_in_public_forum</th>\n",
       "      <th>Time_spent_chating_H:M</th>\n",
       "      <th>Number_of_advertisments_posted</th>\n",
       "      <th>Number_of_offline_meetings_attended</th>\n",
       "      <th>Profile_pictures</th>\n",
       "      <th>Friends_ID_list</th>\n",
       "      <th>Risk</th>\n",
       "    </tr>\n",
       "  </thead>\n",
       "  <tbody>\n",
       "    <tr>\n",
       "      <th>24282</th>\n",
       "      <td>4639</td>\n",
       "      <td>male</td>\n",
       "      <td>26.8</td>\n",
       "      <td>Non_Verified</td>\n",
       "      <td>0</td>\n",
       "      <td>Homosexual</td>\n",
       "      <td>Switch</td>\n",
       "      <td>Nobody</td>\n",
       "      <td>0</td>\n",
       "      <td>before_1826_days</td>\n",
       "      <td>12.2.2012</td>\n",
       "      <td>0</td>\n",
       "      <td>0:0</td>\n",
       "      <td>0.0</td>\n",
       "      <td>0.0</td>\n",
       "      <td>0.0</td>\n",
       "      <td>NaN</td>\n",
       "      <td>unknown_risk</td>\n",
       "    </tr>\n",
       "    <tr>\n",
       "      <th>9716</th>\n",
       "      <td>2443</td>\n",
       "      <td>male</td>\n",
       "      <td>47.0</td>\n",
       "      <td>Non_Verified</td>\n",
       "      <td>0</td>\n",
       "      <td>Heterosexual</td>\n",
       "      <td>Dominant</td>\n",
       "      <td>Nobody</td>\n",
       "      <td>0</td>\n",
       "      <td>before_2229_days</td>\n",
       "      <td>1.3.2011</td>\n",
       "      <td>0</td>\n",
       "      <td>0:0</td>\n",
       "      <td>0.0</td>\n",
       "      <td>0.0</td>\n",
       "      <td>0.0</td>\n",
       "      <td>NaN</td>\n",
       "      <td>unknown_risk</td>\n",
       "    </tr>\n",
       "    <tr>\n",
       "      <th>16944</th>\n",
       "      <td>35498</td>\n",
       "      <td>female</td>\n",
       "      <td>35.0</td>\n",
       "      <td>Non_Verified</td>\n",
       "      <td>0</td>\n",
       "      <td>bisexual</td>\n",
       "      <td>Submisive</td>\n",
       "      <td>Nobody_but_maybe</td>\n",
       "      <td>0</td>\n",
       "      <td>before_697_days</td>\n",
       "      <td>1.6.2015</td>\n",
       "      <td>0</td>\n",
       "      <td>0:0</td>\n",
       "      <td>0.0</td>\n",
       "      <td>0.0</td>\n",
       "      <td>0.0</td>\n",
       "      <td>NaN</td>\n",
       "      <td>unknown_risk</td>\n",
       "    </tr>\n",
       "    <tr>\n",
       "      <th>25322</th>\n",
       "      <td>47889</td>\n",
       "      <td>male</td>\n",
       "      <td>39.8</td>\n",
       "      <td>Non_Verified</td>\n",
       "      <td>0</td>\n",
       "      <td>Heterosexual</td>\n",
       "      <td>Submisive</td>\n",
       "      <td>Nobody</td>\n",
       "      <td>0</td>\n",
       "      <td>before_1_days</td>\n",
       "      <td>27.3.2017</td>\n",
       "      <td>0</td>\n",
       "      <td>0:0</td>\n",
       "      <td>0.0</td>\n",
       "      <td>0.0</td>\n",
       "      <td>0.0</td>\n",
       "      <td>NaN</td>\n",
       "      <td>unknown_risk</td>\n",
       "    </tr>\n",
       "  </tbody>\n",
       "</table>\n",
       "</div>"
      ],
      "text/plain": [
       "       User_ID  Gender   Age  Verification  Verified Sexual_orientation  \\\n",
       "24282     4639    male  26.8  Non_Verified         0         Homosexual   \n",
       "9716      2443    male  47.0  Non_Verified         0       Heterosexual   \n",
       "16944    35498  female  35.0  Non_Verified         0           bisexual   \n",
       "25322    47889    male  39.8  Non_Verified         0       Heterosexual   \n",
       "\n",
       "      Sexual_polarity       Looking_for Points_Rank        Last_login  \\\n",
       "24282          Switch            Nobody           0  before_1826_days   \n",
       "9716         Dominant            Nobody           0  before_2229_days   \n",
       "16944       Submisive  Nobody_but_maybe           0   before_697_days   \n",
       "25322       Submisive            Nobody           0     before_1_days   \n",
       "\n",
       "      Member_since Number_of_Comments_in_public_forum Time_spent_chating_H:M  \\\n",
       "24282    12.2.2012                                  0                    0:0   \n",
       "9716      1.3.2011                                  0                    0:0   \n",
       "16944     1.6.2015                                  0                    0:0   \n",
       "25322    27.3.2017                                  0                    0:0   \n",
       "\n",
       "       Number_of_advertisments_posted  Number_of_offline_meetings_attended  \\\n",
       "24282                             0.0                                  0.0   \n",
       "9716                              0.0                                  0.0   \n",
       "16944                             0.0                                  0.0   \n",
       "25322                             0.0                                  0.0   \n",
       "\n",
       "       Profile_pictures Friends_ID_list          Risk  \n",
       "24282               0.0             NaN  unknown_risk  \n",
       "9716                0.0             NaN  unknown_risk  \n",
       "16944               0.0             NaN  unknown_risk  \n",
       "25322               0.0             NaN  unknown_risk  "
      ]
     },
     "execution_count": 773,
     "metadata": {},
     "output_type": "execute_result"
    }
   ],
   "source": [
    "data.sample(4)"
   ]
  },
  {
   "cell_type": "code",
   "execution_count": 774,
   "metadata": {},
   "outputs": [],
   "source": [
    "data.drop('Verification', axis = 1, inplace = True)"
   ]
  },
  {
   "cell_type": "markdown",
   "metadata": {},
   "source": [
    "### Looking_for"
   ]
  },
  {
   "cell_type": "code",
   "execution_count": 775,
   "metadata": {},
   "outputs": [
    {
     "data": {
      "text/plain": [
       "Nobody              19923\n",
       "Women                4896\n",
       "Nobody_but_maybe     1512\n",
       "Men_and_Women        1074\n",
       "Men                   996\n",
       "NaN                   425\n",
       "Name: Looking_for, dtype: int64"
      ]
     },
     "execution_count": 775,
     "metadata": {},
     "output_type": "execute_result"
    }
   ],
   "source": [
    "data['Looking_for'].value_counts(dropna=False)"
   ]
  },
  {
   "cell_type": "code",
   "execution_count": 776,
   "metadata": {},
   "outputs": [
    {
     "data": {
      "text/plain": [
       "Nobody              2023\n",
       "Women                352\n",
       "Men_and_Women        264\n",
       "Nobody_but_maybe     167\n",
       "Men                  105\n",
       "NaN                   79\n",
       "Name: Looking_for, dtype: int64"
      ]
     },
     "execution_count": 776,
     "metadata": {},
     "output_type": "execute_result"
    }
   ],
   "source": [
    "data[data['Sexual_orientation'] == 'bicurious']['Looking_for'].value_counts(dropna=False)"
   ]
  },
  {
   "cell_type": "code",
   "execution_count": 777,
   "metadata": {},
   "outputs": [
    {
     "data": {
      "text/html": [
       "<div>\n",
       "<style scoped>\n",
       "    .dataframe tbody tr th:only-of-type {\n",
       "        vertical-align: middle;\n",
       "    }\n",
       "\n",
       "    .dataframe tbody tr th {\n",
       "        vertical-align: top;\n",
       "    }\n",
       "\n",
       "    .dataframe thead th {\n",
       "        text-align: right;\n",
       "    }\n",
       "</style>\n",
       "<table border=\"1\" class=\"dataframe\">\n",
       "  <thead>\n",
       "    <tr style=\"text-align: right;\">\n",
       "      <th></th>\n",
       "      <th>Gender</th>\n",
       "      <th>Sexual_orientation</th>\n",
       "      <th>Looking_for</th>\n",
       "    </tr>\n",
       "  </thead>\n",
       "  <tbody>\n",
       "    <tr>\n",
       "      <th>0</th>\n",
       "      <td>male</td>\n",
       "      <td>Homosexual</td>\n",
       "      <td>Men</td>\n",
       "    </tr>\n",
       "    <tr>\n",
       "      <th>1</th>\n",
       "      <td>male</td>\n",
       "      <td>Heterosexual</td>\n",
       "      <td>Women</td>\n",
       "    </tr>\n",
       "    <tr>\n",
       "      <th>2</th>\n",
       "      <td>male</td>\n",
       "      <td>Heterosexual</td>\n",
       "      <td>Women</td>\n",
       "    </tr>\n",
       "    <tr>\n",
       "      <th>3</th>\n",
       "      <td>male</td>\n",
       "      <td>Heterosexual</td>\n",
       "      <td>Women</td>\n",
       "    </tr>\n",
       "    <tr>\n",
       "      <th>4</th>\n",
       "      <td>male</td>\n",
       "      <td>Heterosexual</td>\n",
       "      <td>Women</td>\n",
       "    </tr>\n",
       "  </tbody>\n",
       "</table>\n",
       "</div>"
      ],
      "text/plain": [
       "  Gender Sexual_orientation Looking_for\n",
       "0   male         Homosexual         Men\n",
       "1   male       Heterosexual       Women\n",
       "2   male       Heterosexual       Women\n",
       "3   male       Heterosexual       Women\n",
       "4   male       Heterosexual       Women"
      ]
     },
     "execution_count": 777,
     "metadata": {},
     "output_type": "execute_result"
    }
   ],
   "source": [
    "data[['Gender','Sexual_orientation','Looking_for']][:5]"
   ]
  },
  {
   "cell_type": "code",
   "execution_count": 778,
   "metadata": {},
   "outputs": [],
   "source": [
    "def reseting_looking_for(row):\n",
    "    if row['Sexual_orientation'] == 'Homosexual':\n",
    "        if row['Gender'] == 'female':\n",
    "            row['Looking_for'] = 'Women'\n",
    "        if row['Gender'] == 'male':\n",
    "            row['Looking_for'] = 'Men'\n",
    "    if row['Sexual_orientation'] == 'Heterosexual':\n",
    "        if row['Gender'] == 'female':\n",
    "            row['Looking_for'] = 'Men'\n",
    "        if row['Gender'] == 'male':\n",
    "            row['Looking_for'] = 'Women'\n",
    "    if row['Sexual_orientation'] == 'bicurious' or row['Sexual_orientation'] == 'bisexual':\n",
    "        row['Looking_for'] = 'Men_and_Women'\n",
    "    return row"
   ]
  },
  {
   "cell_type": "code",
   "execution_count": 779,
   "metadata": {},
   "outputs": [],
   "source": [
    "data = data.apply(reseting_looking_for, axis = 1)"
   ]
  },
  {
   "cell_type": "code",
   "execution_count": 780,
   "metadata": {},
   "outputs": [
    {
     "data": {
      "text/plain": [
       "Heterosexual    20440\n",
       "bisexual         4390\n",
       "bicurious        2990\n",
       "Homosexual       1006\n",
       "Name: Sexual_orientation, dtype: int64"
      ]
     },
     "execution_count": 780,
     "metadata": {},
     "output_type": "execute_result"
    }
   ],
   "source": [
    "data['Sexual_orientation'].value_counts(dropna=False)"
   ]
  },
  {
   "cell_type": "code",
   "execution_count": 781,
   "metadata": {},
   "outputs": [
    {
     "data": {
      "text/plain": [
       "Women            16940\n",
       "Men_and_Women     7380\n",
       "Men               4506\n",
       "Name: Looking_for, dtype: int64"
      ]
     },
     "execution_count": 781,
     "metadata": {},
     "output_type": "execute_result"
    }
   ],
   "source": [
    "data['Looking_for'].value_counts(dropna=False)"
   ]
  },
  {
   "cell_type": "code",
   "execution_count": 782,
   "metadata": {},
   "outputs": [
    {
     "data": {
      "text/plain": [
       "Submisive    10878\n",
       "Dominant     10472\n",
       "Switch        7476\n",
       "Name: Sexual_polarity, dtype: int64"
      ]
     },
     "execution_count": 782,
     "metadata": {},
     "output_type": "execute_result"
    }
   ],
   "source": [
    "data['Sexual_polarity'].value_counts(dropna = False)"
   ]
  },
  {
   "cell_type": "code",
   "execution_count": 783,
   "metadata": {},
   "outputs": [
    {
     "data": {
      "text/html": [
       "<div>\n",
       "<style scoped>\n",
       "    .dataframe tbody tr th:only-of-type {\n",
       "        vertical-align: middle;\n",
       "    }\n",
       "\n",
       "    .dataframe tbody tr th {\n",
       "        vertical-align: top;\n",
       "    }\n",
       "\n",
       "    .dataframe thead th {\n",
       "        text-align: right;\n",
       "    }\n",
       "</style>\n",
       "<table border=\"1\" class=\"dataframe\">\n",
       "  <thead>\n",
       "    <tr style=\"text-align: right;\">\n",
       "      <th></th>\n",
       "      <th>User_ID</th>\n",
       "      <th>Gender</th>\n",
       "      <th>Age</th>\n",
       "      <th>Verified</th>\n",
       "      <th>Sexual_orientation</th>\n",
       "      <th>Sexual_polarity</th>\n",
       "      <th>Looking_for</th>\n",
       "      <th>Points_Rank</th>\n",
       "      <th>Last_login</th>\n",
       "      <th>Member_since</th>\n",
       "      <th>Number_of_Comments_in_public_forum</th>\n",
       "      <th>Time_spent_chating_H:M</th>\n",
       "      <th>Number_of_advertisments_posted</th>\n",
       "      <th>Number_of_offline_meetings_attended</th>\n",
       "      <th>Profile_pictures</th>\n",
       "      <th>Friends_ID_list</th>\n",
       "      <th>Risk</th>\n",
       "    </tr>\n",
       "  </thead>\n",
       "  <tbody>\n",
       "    <tr>\n",
       "      <th>0</th>\n",
       "      <td>10386</td>\n",
       "      <td>male</td>\n",
       "      <td>34.6</td>\n",
       "      <td>0</td>\n",
       "      <td>Homosexual</td>\n",
       "      <td>Switch</td>\n",
       "      <td>Men</td>\n",
       "      <td>50</td>\n",
       "      <td>before_10_days</td>\n",
       "      <td>17.9.2012</td>\n",
       "      <td>32</td>\n",
       "      <td>0:2</td>\n",
       "      <td>0.0</td>\n",
       "      <td>0.0</td>\n",
       "      <td>0.0</td>\n",
       "      <td>18260</td>\n",
       "      <td>No_risk</td>\n",
       "    </tr>\n",
       "    <tr>\n",
       "      <th>1</th>\n",
       "      <td>14</td>\n",
       "      <td>male</td>\n",
       "      <td>32.2</td>\n",
       "      <td>0</td>\n",
       "      <td>Heterosexual</td>\n",
       "      <td>Dominant</td>\n",
       "      <td>Women</td>\n",
       "      <td>518</td>\n",
       "      <td>before_1_days</td>\n",
       "      <td>1.11.2009</td>\n",
       "      <td>710</td>\n",
       "      <td>3:45</td>\n",
       "      <td>9.0</td>\n",
       "      <td>0.0</td>\n",
       "      <td>0.0</td>\n",
       "      <td>11778,32024,43768,23969,27318,45884,31277</td>\n",
       "      <td>No_risk</td>\n",
       "    </tr>\n",
       "    <tr>\n",
       "      <th>2</th>\n",
       "      <td>16721</td>\n",
       "      <td>male</td>\n",
       "      <td>33.6</td>\n",
       "      <td>0</td>\n",
       "      <td>Heterosexual</td>\n",
       "      <td>Dominant</td>\n",
       "      <td>Women</td>\n",
       "      <td>150</td>\n",
       "      <td>before_3_days</td>\n",
       "      <td>1.4.2013</td>\n",
       "      <td>25</td>\n",
       "      <td>2:15</td>\n",
       "      <td>1.0</td>\n",
       "      <td>1.0</td>\n",
       "      <td>45.0</td>\n",
       "      <td>19805,21721,19802</td>\n",
       "      <td>No_risk</td>\n",
       "    </tr>\n",
       "  </tbody>\n",
       "</table>\n",
       "</div>"
      ],
      "text/plain": [
       "   User_ID Gender   Age  Verified Sexual_orientation Sexual_polarity  \\\n",
       "0    10386   male  34.6         0         Homosexual          Switch   \n",
       "1       14   male  32.2         0       Heterosexual        Dominant   \n",
       "2    16721   male  33.6         0       Heterosexual        Dominant   \n",
       "\n",
       "  Looking_for Points_Rank      Last_login Member_since  \\\n",
       "0         Men          50  before_10_days    17.9.2012   \n",
       "1       Women         518   before_1_days    1.11.2009   \n",
       "2       Women         150   before_3_days     1.4.2013   \n",
       "\n",
       "  Number_of_Comments_in_public_forum Time_spent_chating_H:M  \\\n",
       "0                                 32                    0:2   \n",
       "1                                710                   3:45   \n",
       "2                                 25                   2:15   \n",
       "\n",
       "   Number_of_advertisments_posted  Number_of_offline_meetings_attended  \\\n",
       "0                             0.0                                  0.0   \n",
       "1                             9.0                                  0.0   \n",
       "2                             1.0                                  1.0   \n",
       "\n",
       "   Profile_pictures                            Friends_ID_list     Risk  \n",
       "0               0.0                                      18260  No_risk  \n",
       "1               0.0  11778,32024,43768,23969,27318,45884,31277  No_risk  \n",
       "2              45.0                          19805,21721,19802  No_risk  "
      ]
     },
     "execution_count": 783,
     "metadata": {},
     "output_type": "execute_result"
    }
   ],
   "source": [
    "data.head(3)"
   ]
  },
  {
   "cell_type": "code",
   "execution_count": 784,
   "metadata": {},
   "outputs": [
    {
     "data": {
      "text/html": [
       "<div>\n",
       "<style scoped>\n",
       "    .dataframe tbody tr th:only-of-type {\n",
       "        vertical-align: middle;\n",
       "    }\n",
       "\n",
       "    .dataframe tbody tr th {\n",
       "        vertical-align: top;\n",
       "    }\n",
       "\n",
       "    .dataframe thead th {\n",
       "        text-align: right;\n",
       "    }\n",
       "</style>\n",
       "<table border=\"1\" class=\"dataframe\">\n",
       "  <thead>\n",
       "    <tr style=\"text-align: right;\">\n",
       "      <th></th>\n",
       "      <th>Heterosexual</th>\n",
       "      <th>Homosexual</th>\n",
       "      <th>bicurious</th>\n",
       "      <th>bisexual</th>\n",
       "    </tr>\n",
       "  </thead>\n",
       "  <tbody>\n",
       "    <tr>\n",
       "      <th>0</th>\n",
       "      <td>0</td>\n",
       "      <td>1</td>\n",
       "      <td>0</td>\n",
       "      <td>0</td>\n",
       "    </tr>\n",
       "    <tr>\n",
       "      <th>1</th>\n",
       "      <td>1</td>\n",
       "      <td>0</td>\n",
       "      <td>0</td>\n",
       "      <td>0</td>\n",
       "    </tr>\n",
       "    <tr>\n",
       "      <th>2</th>\n",
       "      <td>1</td>\n",
       "      <td>0</td>\n",
       "      <td>0</td>\n",
       "      <td>0</td>\n",
       "    </tr>\n",
       "  </tbody>\n",
       "</table>\n",
       "</div>"
      ],
      "text/plain": [
       "   Heterosexual  Homosexual  bicurious  bisexual\n",
       "0             0           1          0         0\n",
       "1             1           0          0         0\n",
       "2             1           0          0         0"
      ]
     },
     "execution_count": 784,
     "metadata": {},
     "output_type": "execute_result"
    }
   ],
   "source": [
    "pd.get_dummies(data['Sexual_orientation']).head(3)"
   ]
  },
  {
   "cell_type": "code",
   "execution_count": 787,
   "metadata": {},
   "outputs": [],
   "source": [
    "data = pd.concat([data.iloc[:,:4],pd.get_dummies(data['Sexual_orientation']),pd.get_dummies(data['Sexual_polarity']),pd.get_dummies(data['Looking_for']),data.iloc[:,7:]], axis = 1)"
   ]
  },
  {
   "cell_type": "markdown",
   "metadata": {},
   "source": [
    "### Points Rank"
   ]
  },
  {
   "cell_type": "code",
   "execution_count": 789,
   "metadata": {},
   "outputs": [],
   "source": [
    "data.Points_Rank.replace(' ','',inplace = True, regex =True)"
   ]
  },
  {
   "cell_type": "code",
   "execution_count": 790,
   "metadata": {},
   "outputs": [],
   "source": [
    "m = data.Points_Rank.mode()"
   ]
  },
  {
   "cell_type": "code",
   "execution_count": 791,
   "metadata": {},
   "outputs": [],
   "source": [
    "data.Points_Rank.replace(to_replace='a', value='0', inplace=True)"
   ]
  },
  {
   "cell_type": "code",
   "execution_count": 792,
   "metadata": {},
   "outputs": [],
   "source": [
    "data.Points_Rank = data.Points_Rank.astype(int)"
   ]
  },
  {
   "cell_type": "markdown",
   "metadata": {},
   "source": [
    "### Last login"
   ]
  },
  {
   "cell_type": "code",
   "execution_count": 793,
   "metadata": {},
   "outputs": [],
   "source": [
    "import re"
   ]
  },
  {
   "cell_type": "code",
   "execution_count": 794,
   "metadata": {},
   "outputs": [],
   "source": [
    "before = [re.findall(\"\\d+\", x)[0] for x in data.Last_login]   # split '_' can also b used"
   ]
  },
  {
   "cell_type": "code",
   "execution_count": 838,
   "metadata": {},
   "outputs": [
    {
     "data": {
      "text/plain": [
       "[(10, 'Switch'),\n",
       " (11, 'Men'),\n",
       " (12, 'Men_and_Women'),\n",
       " (13, 'Women'),\n",
       " (14, 'Points_Rank'),\n",
       " (15, 'Last_login_before_days'),\n",
       " (16, 'Member_since_year'),\n",
       " (17, 'Member_since_month'),\n",
       " (18, 'Member_since_day'),\n",
       " (19, 'Number_of_Comments_in_public_forum'),\n",
       " (20, 'Minutes_spent_chatting'),\n",
       " (21, 'Number_of_advertisments_posted'),\n",
       " (22, 'Number_of_offline_meetings_attended'),\n",
       " (23, 'Profile_pictures'),\n",
       " (24, 'No_of_friends'),\n",
       " (25, 'Risk')]"
      ]
     },
     "execution_count": 838,
     "metadata": {},
     "output_type": "execute_result"
    }
   ],
   "source": [
    "list(enumerate(data.columns))[10:]"
   ]
  },
  {
   "cell_type": "code",
   "execution_count": 796,
   "metadata": {},
   "outputs": [],
   "source": [
    "data.insert(15,'Last_login_before_days',before)"
   ]
  },
  {
   "cell_type": "code",
   "execution_count": 797,
   "metadata": {},
   "outputs": [],
   "source": [
    "data.drop(columns = 'Last_login', inplace = True)"
   ]
  },
  {
   "cell_type": "markdown",
   "metadata": {},
   "source": [
    "### Member_since"
   ]
  },
  {
   "cell_type": "code",
   "execution_count": 798,
   "metadata": {},
   "outputs": [
    {
     "data": {
      "text/plain": [
       "'dnes'"
      ]
     },
     "execution_count": 798,
     "metadata": {},
     "output_type": "execute_result"
    }
   ],
   "source": [
    "max(data.Member_since)"
   ]
  },
  {
   "cell_type": "code",
   "execution_count": 799,
   "metadata": {},
   "outputs": [],
   "source": [
    "data.Member_since = data.Member_since.replace('dnes',np.nan)\n",
    "data.Member_since = data.Member_since.replace('0,278159722',np.nan)"
   ]
  },
  {
   "cell_type": "code",
   "execution_count": 800,
   "metadata": {},
   "outputs": [],
   "source": [
    "data.Member_since = pd.to_datetime(data.Member_since, format = '%d.%m.%Y')"
   ]
  },
  {
   "cell_type": "code",
   "execution_count": 801,
   "metadata": {},
   "outputs": [],
   "source": [
    "data.Member_since.fillna(max(data.Member_since), inplace = True)"
   ]
  },
  {
   "cell_type": "code",
   "execution_count": 837,
   "metadata": {},
   "outputs": [
    {
     "data": {
      "text/plain": [
       "[(10, 'Switch'),\n",
       " (11, 'Men'),\n",
       " (12, 'Men_and_Women'),\n",
       " (13, 'Women'),\n",
       " (14, 'Points_Rank'),\n",
       " (15, 'Last_login_before_days'),\n",
       " (16, 'Member_since_year'),\n",
       " (17, 'Member_since_month'),\n",
       " (18, 'Member_since_day'),\n",
       " (19, 'Number_of_Comments_in_public_forum'),\n",
       " (20, 'Minutes_spent_chatting'),\n",
       " (21, 'Number_of_advertisments_posted'),\n",
       " (22, 'Number_of_offline_meetings_attended'),\n",
       " (23, 'Profile_pictures'),\n",
       " (24, 'No_of_friends'),\n",
       " (25, 'Risk')]"
      ]
     },
     "execution_count": 837,
     "metadata": {},
     "output_type": "execute_result"
    }
   ],
   "source": [
    "list(enumerate(data.columns))[10:]"
   ]
  },
  {
   "cell_type": "code",
   "execution_count": 803,
   "metadata": {},
   "outputs": [],
   "source": [
    "data.insert(16,'Member_since_year',data.Member_since.dt.year)\n",
    "data.insert(17,'Member_since_month',data.Member_since.dt.month)\n",
    "data.insert(18,'Member_since_day',data.Member_since.dt.day)"
   ]
  },
  {
   "cell_type": "code",
   "execution_count": 804,
   "metadata": {},
   "outputs": [],
   "source": [
    "data.drop(columns = 'Member_since', inplace = True)"
   ]
  },
  {
   "cell_type": "markdown",
   "metadata": {},
   "source": [
    "### Number_of_Comments_in_public_forum"
   ]
  },
  {
   "cell_type": "code",
   "execution_count": 805,
   "metadata": {},
   "outputs": [
    {
     "data": {
      "text/plain": [
       "array(['32', '710', '25', '107', '600', '159', '1', '91', '278', '4', '0',\n",
       "       '47', '51', '59', '501', '68', '3', '247', '845', '355', '166',\n",
       "       '332', '42', '168', '43', '73', '2', '62', '36', '66', '57', '17',\n",
       "       '8', '120', '78', '7', '34', '96', '771', '92', '267', '41', '13',\n",
       "       '644', '222', '187', '294', '38', '5', '9', '30', '209', '11',\n",
       "       '1 894', '14', '10', '6', '29', '26', '74', '100', '886', '144',\n",
       "       '16', '12', '169', '69', '90', '18', '362', '126', '22', '54',\n",
       "       '70', '37', '55', '72', '31', '20', '19', '44', '229', '24', '83',\n",
       "       '21', '125', '350', '23', '170', '65', '574', '218', '15', '27',\n",
       "       '56', '39', '89', '199', '58', '80', '174', '134', '1 174', '188',\n",
       "       '133', '28', '45', '116', '46', '118', '64', '486', '154', '145',\n",
       "       '164', '35', '52', '50', '122', '618', '81', '420', '309', '84',\n",
       "       '63', '153', '123', '48', '481', '76', '147', '85', '112', '226',\n",
       "       '589', '82', '77', '268', '61', '40', '60', '146', '437', '130',\n",
       "       '33', '167', '101', '238', '104', '208', '53', '142', '704', '315',\n",
       "       '119', '108', '67', '958', '148', '75', '102', '191', '326', '322',\n",
       "       '95', '214', '158', '87', '560', '183', '508', '115', '117', '94',\n",
       "       '93', '88', '185', '135', '227', '109', '165', '242', '99', '113',\n",
       "       '49', '71', '197', '207', '220', '114', '230', '150', '394', '202',\n",
       "       '937', '149', '156', '137', '487', '311', '497', '699', '186',\n",
       "       '2 062', '97', '179', '138', '321', '182', '369', '446', '111',\n",
       "       '415', '266', '411', '466'], dtype=object)"
      ]
     },
     "execution_count": 805,
     "metadata": {},
     "output_type": "execute_result"
    }
   ],
   "source": [
    "data.Number_of_Comments_in_public_forum.unique()"
   ]
  },
  {
   "cell_type": "code",
   "execution_count": 806,
   "metadata": {},
   "outputs": [],
   "source": [
    "data.Number_of_Comments_in_public_forum.replace(' ','',inplace = True, regex =True)"
   ]
  },
  {
   "cell_type": "markdown",
   "metadata": {},
   "source": [
    "### Number_of_advertisments_posted, \tNumber_of_offline_meetings_attended,\tProfile_pictures"
   ]
  },
  {
   "cell_type": "code",
   "execution_count": 807,
   "metadata": {},
   "outputs": [],
   "source": [
    "data.Number_of_Comments_in_public_forum = data.Number_of_Comments_in_public_forum.astype(int)\n",
    "data.Number_of_advertisments_posted = data.Number_of_advertisments_posted.astype(int)\n",
    "data.Number_of_offline_meetings_attended = data.Number_of_offline_meetings_attended.astype(int)\n",
    "data.Profile_pictures = data.Profile_pictures.astype(int)"
   ]
  },
  {
   "cell_type": "markdown",
   "metadata": {},
   "source": [
    "### Time_spent_chating_H:M"
   ]
  },
  {
   "cell_type": "code",
   "execution_count": 808,
   "metadata": {},
   "outputs": [],
   "source": [
    "data['Time_spent_chating_H:M'].replace(' ','', inplace = True, regex = True)"
   ]
  },
  {
   "cell_type": "code",
   "execution_count": 809,
   "metadata": {},
   "outputs": [],
   "source": [
    "def to_minutes(cell):\n",
    "    hrs_min = cell.split(':')\n",
    "    hrs = int(hrs_min[0])\n",
    "    mins = int(hrs_min[1])\n",
    "    return hrs*60 + mins"
   ]
  },
  {
   "cell_type": "code",
   "execution_count": 810,
   "metadata": {},
   "outputs": [
    {
     "data": {
      "text/plain": [
       "0       0:2\n",
       "1      3:45\n",
       "2      2:15\n",
       "3    359:22\n",
       "Name: Time_spent_chating_H:M, dtype: object"
      ]
     },
     "execution_count": 810,
     "metadata": {},
     "output_type": "execute_result"
    }
   ],
   "source": [
    "data['Time_spent_chating_H:M'].head(4)"
   ]
  },
  {
   "cell_type": "code",
   "execution_count": 811,
   "metadata": {},
   "outputs": [
    {
     "data": {
      "text/plain": [
       "[(19, 'Number_of_Comments_in_public_forum'),\n",
       " (20, 'Time_spent_chating_H:M'),\n",
       " (21, 'Number_of_advertisments_posted'),\n",
       " (22, 'Number_of_offline_meetings_attended'),\n",
       " (23, 'Profile_pictures'),\n",
       " (24, 'Friends_ID_list'),\n",
       " (25, 'Risk')]"
      ]
     },
     "execution_count": 811,
     "metadata": {},
     "output_type": "execute_result"
    }
   ],
   "source": [
    "list(enumerate(data.columns))[-7:]"
   ]
  },
  {
   "cell_type": "code",
   "execution_count": 812,
   "metadata": {},
   "outputs": [],
   "source": [
    "data.insert(20,'Minutes_spent_chatting',data['Time_spent_chating_H:M'].map(to_minutes))"
   ]
  },
  {
   "cell_type": "code",
   "execution_count": 813,
   "metadata": {},
   "outputs": [],
   "source": [
    "data.drop(columns = 'Time_spent_chating_H:M',inplace = True)"
   ]
  },
  {
   "cell_type": "markdown",
   "metadata": {},
   "source": [
    "### Friends_ID_list"
   ]
  },
  {
   "cell_type": "code",
   "execution_count": 814,
   "metadata": {},
   "outputs": [
    {
     "data": {
      "text/plain": [
       "0                                                18260\n",
       "1            11778,32024,43768,23969,27318,45884,31277\n",
       "2                                    19805,21721,19802\n",
       "3    40847,38183,9507,42259,5807,28118,24848,37170,...\n",
       "4    1320,35739,34231,19097,20197,18069,12330,43342...\n",
       "Name: Friends_ID_list, dtype: object"
      ]
     },
     "execution_count": 814,
     "metadata": {},
     "output_type": "execute_result"
    }
   ],
   "source": [
    "data.Friends_ID_list.head(5)"
   ]
  },
  {
   "cell_type": "code",
   "execution_count": 815,
   "metadata": {},
   "outputs": [
    {
     "data": {
      "text/plain": [
       "dtype('O')"
      ]
     },
     "execution_count": 815,
     "metadata": {},
     "output_type": "execute_result"
    }
   ],
   "source": [
    "data.Friends_ID_list.dtype"
   ]
  },
  {
   "cell_type": "code",
   "execution_count": 816,
   "metadata": {},
   "outputs": [],
   "source": [
    "data.Friends_ID_list = data.Friends_ID_list.astype('str')"
   ]
  },
  {
   "cell_type": "code",
   "execution_count": 839,
   "metadata": {},
   "outputs": [],
   "source": [
    "def no_of_friends(f):\n",
    "    if f == 'nan':\n",
    "        return 0\n",
    "    lst = f.split(',')\n",
    "    return len(lst)"
   ]
  },
  {
   "cell_type": "code",
   "execution_count": 823,
   "metadata": {},
   "outputs": [
    {
     "data": {
      "text/plain": [
       "[(23, 'Profile_pictures'),\n",
       " (24, 'No_of_friends'),\n",
       " (25, 'Friends_ID_list'),\n",
       " (26, 'Risk')]"
      ]
     },
     "execution_count": 823,
     "metadata": {},
     "output_type": "execute_result"
    }
   ],
   "source": [
    "list(enumerate(data.columns))[-4:]"
   ]
  },
  {
   "cell_type": "code",
   "execution_count": 825,
   "metadata": {},
   "outputs": [],
   "source": [
    "data.insert(24,'No_of_friends',data.Friends_ID_list.map(no_of_friends))"
   ]
  },
  {
   "cell_type": "code",
   "execution_count": 831,
   "metadata": {},
   "outputs": [],
   "source": [
    "data.drop(columns = 'Friends_ID_list', inplace = True)"
   ]
  },
  {
   "cell_type": "markdown",
   "metadata": {},
   "source": [
    "### Risk"
   ]
  },
  {
   "cell_type": "code",
   "execution_count": 835,
   "metadata": {},
   "outputs": [
    {
     "data": {
      "text/plain": [
       "NaN          28737\n",
       "No_risk         57\n",
       "High_risk       32\n",
       "Name: Risk, dtype: int64"
      ]
     },
     "execution_count": 835,
     "metadata": {},
     "output_type": "execute_result"
    }
   ],
   "source": [
    "data.Risk.value_counts(dropna = False)"
   ]
  },
  {
   "cell_type": "code",
   "execution_count": 834,
   "metadata": {},
   "outputs": [],
   "source": [
    "data.Risk.replace('unknown_risk',np.nan, inplace = True)"
   ]
  }
 ],
 "metadata": {
  "kernelspec": {
   "display_name": "Python 3",
   "language": "python",
   "name": "python3"
  },
  "language_info": {
   "codemirror_mode": {
    "name": "ipython",
    "version": 3
   },
   "file_extension": ".py",
   "mimetype": "text/x-python",
   "name": "python",
   "nbconvert_exporter": "python",
   "pygments_lexer": "ipython3",
   "version": "3.7.0"
  }
 },
 "nbformat": 4,
 "nbformat_minor": 2
}
