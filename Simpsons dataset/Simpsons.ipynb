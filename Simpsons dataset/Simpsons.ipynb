{
 "cells": [
  {
   "cell_type": "code",
   "execution_count": null,
   "metadata": {},
   "outputs": [],
   "source": [
    "import pandas as pd\n",
    "locations = pd.read_csv('https://query.data.world/s/nblejp7vmp4g77frrp5svcar7buxcq')\n",
    "episodes = pd.read_csv('https://query.data.world/s/mmpctlzri3uiq3gzhfy6dg23nb3voc')\n",
    "characters = pd.read_csv('https://query.data.world/s/fzwghuindwtmxy6wnwjdq2tcgyf2y4')\n",
    "\n",
    "df = pd.read_csv(r'C:\\Users\\kalya\\Downloads\\simpsons_script_lines.csv',header = None,delimiter =',')\n",
    "cols = script_lines.iloc[0,:13]\n",
    "script_lines = df.iloc[1:,:13]\n",
    "script_lines.columns = cols"
   ]
  }
 ],
 "metadata": {
  "kernelspec": {
   "display_name": "Python 3",
   "language": "python",
   "name": "python3"
  },
  "language_info": {
   "codemirror_mode": {
    "name": "ipython",
    "version": 3
   },
   "file_extension": ".py",
   "mimetype": "text/x-python",
   "name": "python",
   "nbconvert_exporter": "python",
   "pygments_lexer": "ipython3",
   "version": "3.7.0"
  }
 },
 "nbformat": 4,
 "nbformat_minor": 2
}
