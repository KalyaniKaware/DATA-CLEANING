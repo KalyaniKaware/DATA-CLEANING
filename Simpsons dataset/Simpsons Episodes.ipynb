{
 "cells": [
  {
   "cell_type": "code",
   "execution_count": 1,
   "metadata": {},
   "outputs": [],
   "source": [
    "import pandas as pd\n",
    "episodes = pd.read_csv('https://query.data.world/s/mmpctlzri3uiq3gzhfy6dg23nb3voc')"
   ]
  },
  {
   "cell_type": "code",
   "execution_count": 2,
   "metadata": {},
   "outputs": [
    {
     "name": "stdout",
     "output_type": "stream",
     "text": [
      "<class 'pandas.core.frame.DataFrame'>\n",
      "RangeIndex: 600 entries, 0 to 599\n",
      "Data columns (total 14 columns):\n",
      "id                        600 non-null int64\n",
      "image_url                 596 non-null object\n",
      "imdb_rating               597 non-null float64\n",
      "imdb_votes                597 non-null float64\n",
      "number_in_season          600 non-null int64\n",
      "number_in_series          600 non-null int64\n",
      "original_air_date         600 non-null object\n",
      "original_air_year         600 non-null int64\n",
      "production_code           600 non-null object\n",
      "season                    600 non-null int64\n",
      "title                     600 non-null object\n",
      "us_viewers_in_millions    594 non-null float64\n",
      "video_url                 596 non-null object\n",
      "views                     596 non-null float64\n",
      "dtypes: float64(4), int64(5), object(5)\n",
      "memory usage: 65.7+ KB\n"
     ]
    }
   ],
   "source": [
    "episodes.info()"
   ]
  },
  {
   "cell_type": "code",
   "execution_count": 3,
   "metadata": {},
   "outputs": [],
   "source": [
    "idx =  episodes[episodes['season'] == 28].index\n",
    "episodes.drop(idx, axis = 0, inplace = True)"
   ]
  },
  {
   "cell_type": "code",
   "execution_count": 4,
   "metadata": {
    "scrolled": true
   },
   "outputs": [
    {
     "data": {
      "text/plain": [
       "True"
      ]
     },
     "execution_count": 4,
     "metadata": {},
     "output_type": "execute_result"
    }
   ],
   "source": [
    "# episodes.sort_values(by='original_air_date')\n",
    "episodes.production_code.is_unique"
   ]
  },
  {
   "cell_type": "code",
   "execution_count": 5,
   "metadata": {},
   "outputs": [
    {
     "data": {
      "text/html": [
       "<div>\n",
       "<style scoped>\n",
       "    .dataframe tbody tr th:only-of-type {\n",
       "        vertical-align: middle;\n",
       "    }\n",
       "\n",
       "    .dataframe tbody tr th {\n",
       "        vertical-align: top;\n",
       "    }\n",
       "\n",
       "    .dataframe thead th {\n",
       "        text-align: right;\n",
       "    }\n",
       "</style>\n",
       "<table border=\"1\" class=\"dataframe\">\n",
       "  <thead>\n",
       "    <tr style=\"text-align: right;\">\n",
       "      <th></th>\n",
       "      <th>id</th>\n",
       "      <th>image_url</th>\n",
       "      <th>imdb_rating</th>\n",
       "      <th>imdb_votes</th>\n",
       "      <th>number_in_season</th>\n",
       "      <th>number_in_series</th>\n",
       "      <th>original_air_date</th>\n",
       "      <th>original_air_year</th>\n",
       "      <th>production_code</th>\n",
       "      <th>season</th>\n",
       "      <th>title</th>\n",
       "      <th>us_viewers_in_millions</th>\n",
       "      <th>video_url</th>\n",
       "      <th>views</th>\n",
       "    </tr>\n",
       "  </thead>\n",
       "  <tbody>\n",
       "    <tr>\n",
       "      <th>189</th>\n",
       "      <td>447</td>\n",
       "      <td>NaN</td>\n",
       "      <td>6.7</td>\n",
       "      <td>543.0</td>\n",
       "      <td>6</td>\n",
       "      <td>447</td>\n",
       "      <td>2009-11-22</td>\n",
       "      <td>2009</td>\n",
       "      <td>LABF18</td>\n",
       "      <td>21</td>\n",
       "      <td>Pranks and Greens</td>\n",
       "      <td>7.03</td>\n",
       "      <td>NaN</td>\n",
       "      <td>NaN</td>\n",
       "    </tr>\n",
       "  </tbody>\n",
       "</table>\n",
       "</div>"
      ],
      "text/plain": [
       "      id image_url  imdb_rating  imdb_votes  number_in_season  \\\n",
       "189  447       NaN          6.7       543.0                 6   \n",
       "\n",
       "     number_in_series original_air_date  original_air_year production_code  \\\n",
       "189               447        2009-11-22               2009          LABF18   \n",
       "\n",
       "     season              title  us_viewers_in_millions video_url  views  \n",
       "189      21  Pranks and Greens                    7.03       NaN    NaN  "
      ]
     },
     "execution_count": 5,
     "metadata": {},
     "output_type": "execute_result"
    }
   ],
   "source": [
    "episodes[episodes.views.isna()]"
   ]
  },
  {
   "cell_type": "code",
   "execution_count": 6,
   "metadata": {},
   "outputs": [],
   "source": [
    "season_8_mean_US_views = episodes[episodes['season'] == 8].us_viewers_in_millions.mean()\n",
    "episodes.us_viewers_in_millions = episodes.us_viewers_in_millions.fillna(value = season_8_mean_US_views)"
   ]
  },
  {
   "cell_type": "code",
   "execution_count": 7,
   "metadata": {},
   "outputs": [],
   "source": [
    "season_21_mean_views = episodes[episodes['season'] == 21].views.mean()\n",
    "episodes.views = episodes.views.fillna(value = season_21_mean_views)"
   ]
  },
  {
   "cell_type": "code",
   "execution_count": 8,
   "metadata": {},
   "outputs": [],
   "source": [
    "episodes.drop(columns = ['id','image_url','video_url','production_code','original_air_year'], inplace = True)"
   ]
  },
  {
   "cell_type": "code",
   "execution_count": 14,
   "metadata": {},
   "outputs": [
    {
     "data": {
      "text/html": [
       "<div>\n",
       "<style scoped>\n",
       "    .dataframe tbody tr th:only-of-type {\n",
       "        vertical-align: middle;\n",
       "    }\n",
       "\n",
       "    .dataframe tbody tr th {\n",
       "        vertical-align: top;\n",
       "    }\n",
       "\n",
       "    .dataframe thead th {\n",
       "        text-align: right;\n",
       "    }\n",
       "</style>\n",
       "<table border=\"1\" class=\"dataframe\">\n",
       "  <thead>\n",
       "    <tr style=\"text-align: right;\">\n",
       "      <th></th>\n",
       "      <th>imdb_rating</th>\n",
       "      <th>imdb_votes</th>\n",
       "      <th>number_in_season</th>\n",
       "      <th>number_in_series</th>\n",
       "      <th>original_air_date</th>\n",
       "      <th>season</th>\n",
       "      <th>title</th>\n",
       "      <th>us_viewers_in_millions</th>\n",
       "      <th>views</th>\n",
       "    </tr>\n",
       "  </thead>\n",
       "  <tbody>\n",
       "    <tr>\n",
       "      <th>0</th>\n",
       "      <td>7.4</td>\n",
       "      <td>1511</td>\n",
       "      <td>10</td>\n",
       "      <td>10</td>\n",
       "      <td>1990-03-25</td>\n",
       "      <td>1</td>\n",
       "      <td>Homer's Night Out</td>\n",
       "      <td>30.3</td>\n",
       "      <td>50816</td>\n",
       "    </tr>\n",
       "    <tr>\n",
       "      <th>1</th>\n",
       "      <td>8.3</td>\n",
       "      <td>1716</td>\n",
       "      <td>12</td>\n",
       "      <td>12</td>\n",
       "      <td>1990-04-29</td>\n",
       "      <td>1</td>\n",
       "      <td>Krusty Gets Busted</td>\n",
       "      <td>30.4</td>\n",
       "      <td>62561</td>\n",
       "    </tr>\n",
       "    <tr>\n",
       "      <th>2</th>\n",
       "      <td>8.2</td>\n",
       "      <td>1638</td>\n",
       "      <td>1</td>\n",
       "      <td>14</td>\n",
       "      <td>1990-10-11</td>\n",
       "      <td>2</td>\n",
       "      <td>Bart Gets an \"F\"</td>\n",
       "      <td>33.6</td>\n",
       "      <td>59575</td>\n",
       "    </tr>\n",
       "    <tr>\n",
       "      <th>3</th>\n",
       "      <td>8.1</td>\n",
       "      <td>1457</td>\n",
       "      <td>4</td>\n",
       "      <td>17</td>\n",
       "      <td>1990-11-01</td>\n",
       "      <td>2</td>\n",
       "      <td>Two Cars in Every Garage and Three Eyes on Eve...</td>\n",
       "      <td>26.1</td>\n",
       "      <td>64959</td>\n",
       "    </tr>\n",
       "    <tr>\n",
       "      <th>4</th>\n",
       "      <td>8.0</td>\n",
       "      <td>1366</td>\n",
       "      <td>6</td>\n",
       "      <td>19</td>\n",
       "      <td>1990-11-15</td>\n",
       "      <td>2</td>\n",
       "      <td>Dead Putting Society</td>\n",
       "      <td>25.4</td>\n",
       "      <td>50691</td>\n",
       "    </tr>\n",
       "  </tbody>\n",
       "</table>\n",
       "</div>"
      ],
      "text/plain": [
       "   imdb_rating  imdb_votes  number_in_season  number_in_series  \\\n",
       "0          7.4        1511                10                10   \n",
       "1          8.3        1716                12                12   \n",
       "2          8.2        1638                 1                14   \n",
       "3          8.1        1457                 4                17   \n",
       "4          8.0        1366                 6                19   \n",
       "\n",
       "  original_air_date  season  \\\n",
       "0        1990-03-25       1   \n",
       "1        1990-04-29       1   \n",
       "2        1990-10-11       2   \n",
       "3        1990-11-01       2   \n",
       "4        1990-11-15       2   \n",
       "\n",
       "                                               title  us_viewers_in_millions  \\\n",
       "0                                  Homer's Night Out                    30.3   \n",
       "1                                 Krusty Gets Busted                    30.4   \n",
       "2                                   Bart Gets an \"F\"                    33.6   \n",
       "3  Two Cars in Every Garage and Three Eyes on Eve...                    26.1   \n",
       "4                               Dead Putting Society                    25.4   \n",
       "\n",
       "   views  \n",
       "0  50816  \n",
       "1  62561  \n",
       "2  59575  \n",
       "3  64959  \n",
       "4  50691  "
      ]
     },
     "execution_count": 14,
     "metadata": {},
     "output_type": "execute_result"
    }
   ],
   "source": [
    "episodes.head(5)"
   ]
  },
  {
   "cell_type": "code",
   "execution_count": 10,
   "metadata": {},
   "outputs": [],
   "source": [
    "episodes.original_air_date = pd.to_datetime(episodes.original_air_date)"
   ]
  },
  {
   "cell_type": "code",
   "execution_count": 11,
   "metadata": {},
   "outputs": [],
   "source": [
    "episodes.imdb_votes = episodes.imdb_votes.astype(int)\n",
    "episodes.views = episodes.views.astype(int)"
   ]
  },
  {
   "cell_type": "code",
   "execution_count": 12,
   "metadata": {},
   "outputs": [
    {
     "data": {
      "text/plain": [
       "596"
      ]
     },
     "execution_count": 12,
     "metadata": {},
     "output_type": "execute_result"
    }
   ],
   "source": [
    "episodes.number_in_series.max()"
   ]
  },
  {
   "cell_type": "code",
   "execution_count": 15,
   "metadata": {},
   "outputs": [],
   "source": [
    "episodes.sort_values(by = ['season','number_in_season','number_in_series'], inplace = True)"
   ]
  },
  {
   "cell_type": "code",
   "execution_count": 17,
   "metadata": {},
   "outputs": [],
   "source": [
    "cols = ['season', 'number_in_season', 'number_in_series', 'title','original_air_date', 'us_viewers_in_millions','views','imdb_rating','imdb_votes']"
   ]
  },
  {
   "cell_type": "code",
   "execution_count": 18,
   "metadata": {},
   "outputs": [],
   "source": [
    "episodes = episodes[cols]"
   ]
  },
  {
   "cell_type": "code",
   "execution_count": 22,
   "metadata": {},
   "outputs": [],
   "source": [
    "with pd.ExcelWriter(r'C:\\Users\\kalya\\Desktop\\Study material\\DATA CLEANING\\Simpsons dataset\\Simpsons_data.xlsx',\n",
    "                    mode='a') as writer:  \n",
    "    episodes.to_excel(writer, sheet_name='episodes', index = False)"
   ]
  }
 ],
 "metadata": {
  "kernelspec": {
   "display_name": "Python 3",
   "language": "python",
   "name": "python3"
  },
  "language_info": {
   "codemirror_mode": {
    "name": "ipython",
    "version": 3
   },
   "file_extension": ".py",
   "mimetype": "text/x-python",
   "name": "python",
   "nbconvert_exporter": "python",
   "pygments_lexer": "ipython3",
   "version": "3.7.0"
  }
 },
 "nbformat": 4,
 "nbformat_minor": 2
}
