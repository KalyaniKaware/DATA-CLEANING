{
 "cells": [
  {
   "cell_type": "code",
   "execution_count": 1,
   "metadata": {},
   "outputs": [],
   "source": [
    "import pandas as pd\n",
    "locations = pd.read_csv('https://query.data.world/s/nblejp7vmp4g77frrp5svcar7buxcq')"
   ]
  },
  {
   "cell_type": "code",
   "execution_count": 6,
   "metadata": {},
   "outputs": [],
   "source": [
    "locations.sort_values(by = 'id', inplace = True)"
   ]
  },
  {
   "cell_type": "code",
   "execution_count": 3,
   "metadata": {},
   "outputs": [
    {
     "name": "stdout",
     "output_type": "stream",
     "text": [
      "<class 'pandas.core.frame.DataFrame'>\n",
      "RangeIndex: 4459 entries, 0 to 4458\n",
      "Data columns (total 3 columns):\n",
      "id                 4459 non-null int64\n",
      "name               4459 non-null object\n",
      "normalized_name    4459 non-null object\n",
      "dtypes: int64(1), object(2)\n",
      "memory usage: 104.6+ KB\n"
     ]
    }
   ],
   "source": [
    "locations.info()"
   ]
  },
  {
   "cell_type": "code",
   "execution_count": 9,
   "metadata": {},
   "outputs": [],
   "source": [
    "with pd.ExcelWriter(r'C:\\Users\\kalya\\Desktop\\Study material\\DATA CLEANING\\Simpsons dataset\\Simpsons_data.xlsx',\n",
    "                    mode='a') as writer:  \n",
    "    locations.to_excel(writer, sheet_name='locations', index = False)"
   ]
  }
 ],
 "metadata": {
  "kernelspec": {
   "display_name": "Python 3",
   "language": "python",
   "name": "python3"
  },
  "language_info": {
   "codemirror_mode": {
    "name": "ipython",
    "version": 3
   },
   "file_extension": ".py",
   "mimetype": "text/x-python",
   "name": "python",
   "nbconvert_exporter": "python",
   "pygments_lexer": "ipython3",
   "version": "3.7.0"
  }
 },
 "nbformat": 4,
 "nbformat_minor": 2
}
