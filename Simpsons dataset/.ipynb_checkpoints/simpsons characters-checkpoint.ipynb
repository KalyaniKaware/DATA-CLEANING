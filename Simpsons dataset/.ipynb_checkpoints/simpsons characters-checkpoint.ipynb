{
 "cells": [
  {
   "cell_type": "code",
   "execution_count": 78,
   "metadata": {},
   "outputs": [],
   "source": [
    "import pandas as pd\n",
    "characters = pd.read_csv('https://query.data.world/s/fzwghuindwtmxy6wnwjdq2tcgyf2y4')\n",
    "characters.sort_values(by = 'id').head(5)"
   ]
  },
  {
   "cell_type": "code",
   "execution_count": 80,
   "metadata": {},
   "outputs": [
    {
     "data": {
      "text/plain": [
       "NaN    6399\n",
       "m       252\n",
       "f        71\n",
       "Name: gender, dtype: int64"
      ]
     },
     "execution_count": 80,
     "metadata": {},
     "output_type": "execute_result"
    }
   ],
   "source": [
    "characters.gender.value_counts(dropna = False)"
   ]
  },
  {
   "cell_type": "markdown",
   "metadata": {},
   "source": [
    "# Populating genders"
   ]
  },
  {
   "cell_type": "code",
   "execution_count": 81,
   "metadata": {},
   "outputs": [],
   "source": [
    "def gender_role(x):\n",
    "    \n",
    "    f = 'mrs','madam','miss','lady','female','ms','mother','aunt','wife','waitress','lady','daughter','mom','sister','woman','women','girl'\n",
    "    m = 'boy','father','uncle','husband','male','waiter','guy','son','mr','dad','brother','man','men'\n",
    "\n",
    "    if any(i in x for i in f):\n",
    "        return 'Female'\n",
    "    if any(i in x for i in m):\n",
    "        return 'Male'\n",
    "    else: return 'Unknown'"
   ]
  },
  {
   "cell_type": "code",
   "execution_count": 86,
   "metadata": {},
   "outputs": [],
   "source": [
    "characters['populated_gender'] = characters.normalized_name.map(gender_role)\n",
    "\n",
    "characters['gender'] = characters.gender.map({'f': 'Female', 'm':'Male'})\n",
    "characters.gender.fillna(characters['populated_gender'],inplace = True)\n",
    "\n",
    "del characters['populated_gender']\n",
    "\n",
    "characters.gender.value_counts(dropna = False)"
   ]
  },
  {
   "cell_type": "code",
   "execution_count": 89,
   "metadata": {},
   "outputs": [
    {
     "name": "stdout",
     "output_type": "stream",
     "text": [
      "<class 'pandas.core.frame.DataFrame'>\n",
      "RangeIndex: 6722 entries, 0 to 6721\n",
      "Data columns (total 4 columns):\n",
      "id                 6722 non-null int64\n",
      "name               6722 non-null object\n",
      "normalized_name    6722 non-null object\n",
      "gender             6722 non-null object\n",
      "dtypes: int64(1), object(3)\n",
      "memory usage: 210.1+ KB\n"
     ]
    }
   ],
   "source": [
    "characters.info()"
   ]
  }
 ],
 "metadata": {
  "kernelspec": {
   "display_name": "Python 3",
   "language": "python",
   "name": "python3"
  },
  "language_info": {
   "codemirror_mode": {
    "name": "ipython",
    "version": 3
   },
   "file_extension": ".py",
   "mimetype": "text/x-python",
   "name": "python",
   "nbconvert_exporter": "python",
   "pygments_lexer": "ipython3",
   "version": "3.7.0"
  }
 },
 "nbformat": 4,
 "nbformat_minor": 2
}
