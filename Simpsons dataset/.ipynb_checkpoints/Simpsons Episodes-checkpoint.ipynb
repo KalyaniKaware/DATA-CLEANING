{
 "cells": [
  {
   "cell_type": "code",
   "execution_count": 129,
   "metadata": {},
   "outputs": [],
   "source": [
    "import pandas as pd\n",
    "episodes = pd.read_csv('https://query.data.world/s/mmpctlzri3uiq3gzhfy6dg23nb3voc')"
   ]
  },
  {
   "cell_type": "code",
   "execution_count": 143,
   "metadata": {},
   "outputs": [
    {
     "name": "stdout",
     "output_type": "stream",
     "text": [
      "<class 'pandas.core.frame.DataFrame'>\n",
      "Int64Index: 596 entries, 0 to 599\n",
      "Data columns (total 9 columns):\n",
      "imdb_rating               596 non-null float64\n",
      "imdb_votes                596 non-null int32\n",
      "number_in_season          596 non-null int64\n",
      "number_in_series          596 non-null int64\n",
      "original_air_date         596 non-null datetime64[ns]\n",
      "season                    596 non-null int64\n",
      "title                     596 non-null object\n",
      "us_viewers_in_millions    596 non-null float64\n",
      "views                     596 non-null int32\n",
      "dtypes: datetime64[ns](1), float64(2), int32(2), int64(3), object(1)\n",
      "memory usage: 41.9+ KB\n"
     ]
    }
   ],
   "source": [
    "episodes.info()"
   ]
  },
  {
   "cell_type": "code",
   "execution_count": 131,
   "metadata": {},
   "outputs": [],
   "source": [
    "idx =  episodes[episodes['season'] == 28].index\n",
    "episodes.drop(idx, axis = 0, inplace = True)"
   ]
  },
  {
   "cell_type": "code",
   "execution_count": 132,
   "metadata": {
    "scrolled": true
   },
   "outputs": [
    {
     "data": {
      "text/plain": [
       "True"
      ]
     },
     "execution_count": 132,
     "metadata": {},
     "output_type": "execute_result"
    }
   ],
   "source": [
    "# episodes.sort_values(by='original_air_date')\n",
    "episodes.production_code.is_unique"
   ]
  },
  {
   "cell_type": "code",
   "execution_count": 133,
   "metadata": {},
   "outputs": [
    {
     "data": {
      "text/html": [
       "<div>\n",
       "<style scoped>\n",
       "    .dataframe tbody tr th:only-of-type {\n",
       "        vertical-align: middle;\n",
       "    }\n",
       "\n",
       "    .dataframe tbody tr th {\n",
       "        vertical-align: top;\n",
       "    }\n",
       "\n",
       "    .dataframe thead th {\n",
       "        text-align: right;\n",
       "    }\n",
       "</style>\n",
       "<table border=\"1\" class=\"dataframe\">\n",
       "  <thead>\n",
       "    <tr style=\"text-align: right;\">\n",
       "      <th></th>\n",
       "      <th>id</th>\n",
       "      <th>image_url</th>\n",
       "      <th>imdb_rating</th>\n",
       "      <th>imdb_votes</th>\n",
       "      <th>number_in_season</th>\n",
       "      <th>number_in_series</th>\n",
       "      <th>original_air_date</th>\n",
       "      <th>original_air_year</th>\n",
       "      <th>production_code</th>\n",
       "      <th>season</th>\n",
       "      <th>title</th>\n",
       "      <th>us_viewers_in_millions</th>\n",
       "      <th>video_url</th>\n",
       "      <th>views</th>\n",
       "    </tr>\n",
       "  </thead>\n",
       "  <tbody>\n",
       "    <tr>\n",
       "      <th>189</th>\n",
       "      <td>447</td>\n",
       "      <td>NaN</td>\n",
       "      <td>6.7</td>\n",
       "      <td>543.0</td>\n",
       "      <td>6</td>\n",
       "      <td>447</td>\n",
       "      <td>2009-11-22</td>\n",
       "      <td>2009</td>\n",
       "      <td>LABF18</td>\n",
       "      <td>21</td>\n",
       "      <td>Pranks and Greens</td>\n",
       "      <td>7.03</td>\n",
       "      <td>NaN</td>\n",
       "      <td>NaN</td>\n",
       "    </tr>\n",
       "  </tbody>\n",
       "</table>\n",
       "</div>"
      ],
      "text/plain": [
       "      id image_url  imdb_rating  imdb_votes  number_in_season  \\\n",
       "189  447       NaN          6.7       543.0                 6   \n",
       "\n",
       "     number_in_series original_air_date  original_air_year production_code  \\\n",
       "189               447        2009-11-22               2009          LABF18   \n",
       "\n",
       "     season              title  us_viewers_in_millions video_url  views  \n",
       "189      21  Pranks and Greens                    7.03       NaN    NaN  "
      ]
     },
     "execution_count": 133,
     "metadata": {},
     "output_type": "execute_result"
    }
   ],
   "source": [
    "episodes[episodes.views.isna()]"
   ]
  },
  {
   "cell_type": "code",
   "execution_count": 134,
   "metadata": {},
   "outputs": [],
   "source": [
    "season_8_mean_US_views = episodes[episodes['season'] == 8].us_viewers_in_millions.mean()\n",
    "episodes.us_viewers_in_millions = episodes.us_viewers_in_millions.fillna(value = season_8_mean_US_views)"
   ]
  },
  {
   "cell_type": "code",
   "execution_count": 135,
   "metadata": {},
   "outputs": [],
   "source": [
    "season_21_mean_views = episodes[episodes['season'] == 21].views.mean()\n",
    "episodes.views = episodes.views.fillna(value = season_21_mean_views)"
   ]
  },
  {
   "cell_type": "code",
   "execution_count": 136,
   "metadata": {},
   "outputs": [],
   "source": [
    "episodes.drop(columns = ['id','image_url','video_url','production_code','original_air_year'], inplace = True)"
   ]
  },
  {
   "cell_type": "code",
   "execution_count": 137,
   "metadata": {},
   "outputs": [
    {
     "data": {
      "text/html": [
       "<div>\n",
       "<style scoped>\n",
       "    .dataframe tbody tr th:only-of-type {\n",
       "        vertical-align: middle;\n",
       "    }\n",
       "\n",
       "    .dataframe tbody tr th {\n",
       "        vertical-align: top;\n",
       "    }\n",
       "\n",
       "    .dataframe thead th {\n",
       "        text-align: right;\n",
       "    }\n",
       "</style>\n",
       "<table border=\"1\" class=\"dataframe\">\n",
       "  <thead>\n",
       "    <tr style=\"text-align: right;\">\n",
       "      <th></th>\n",
       "      <th>imdb_rating</th>\n",
       "      <th>imdb_votes</th>\n",
       "      <th>number_in_season</th>\n",
       "      <th>number_in_series</th>\n",
       "      <th>original_air_date</th>\n",
       "      <th>season</th>\n",
       "      <th>title</th>\n",
       "      <th>us_viewers_in_millions</th>\n",
       "      <th>views</th>\n",
       "    </tr>\n",
       "  </thead>\n",
       "  <tbody>\n",
       "    <tr>\n",
       "      <th>559</th>\n",
       "      <td>7.4</td>\n",
       "      <td>642.0</td>\n",
       "      <td>13</td>\n",
       "      <td>369</td>\n",
       "      <td>2006-03-12</td>\n",
       "      <td>17</td>\n",
       "      <td>The Seemingly Never-Ending Story</td>\n",
       "      <td>9.72</td>\n",
       "      <td>48854.0</td>\n",
       "    </tr>\n",
       "    <tr>\n",
       "      <th>518</th>\n",
       "      <td>6.5</td>\n",
       "      <td>246.0</td>\n",
       "      <td>17</td>\n",
       "      <td>591</td>\n",
       "      <td>2016-04-03</td>\n",
       "      <td>27</td>\n",
       "      <td>The Burns Cage</td>\n",
       "      <td>2.32</td>\n",
       "      <td>190.0</td>\n",
       "    </tr>\n",
       "    <tr>\n",
       "      <th>563</th>\n",
       "      <td>7.1</td>\n",
       "      <td>599.0</td>\n",
       "      <td>6</td>\n",
       "      <td>426</td>\n",
       "      <td>2008-11-16</td>\n",
       "      <td>20</td>\n",
       "      <td>Homer and Lisa Exchange Cross Words</td>\n",
       "      <td>8.52</td>\n",
       "      <td>38879.0</td>\n",
       "    </tr>\n",
       "    <tr>\n",
       "      <th>466</th>\n",
       "      <td>6.8</td>\n",
       "      <td>501.0</td>\n",
       "      <td>3</td>\n",
       "      <td>467</td>\n",
       "      <td>2010-10-10</td>\n",
       "      <td>22</td>\n",
       "      <td>MoneyBart</td>\n",
       "      <td>6.72</td>\n",
       "      <td>39073.0</td>\n",
       "    </tr>\n",
       "    <tr>\n",
       "      <th>186</th>\n",
       "      <td>6.2</td>\n",
       "      <td>476.0</td>\n",
       "      <td>8</td>\n",
       "      <td>494</td>\n",
       "      <td>2011-12-04</td>\n",
       "      <td>23</td>\n",
       "      <td>The Ten-Per-Cent Solution</td>\n",
       "      <td>9.01</td>\n",
       "      <td>39002.0</td>\n",
       "    </tr>\n",
       "  </tbody>\n",
       "</table>\n",
       "</div>"
      ],
      "text/plain": [
       "     imdb_rating  imdb_votes  number_in_season  number_in_series  \\\n",
       "559          7.4       642.0                13               369   \n",
       "518          6.5       246.0                17               591   \n",
       "563          7.1       599.0                 6               426   \n",
       "466          6.8       501.0                 3               467   \n",
       "186          6.2       476.0                 8               494   \n",
       "\n",
       "    original_air_date  season                                title  \\\n",
       "559        2006-03-12      17     The Seemingly Never-Ending Story   \n",
       "518        2016-04-03      27                       The Burns Cage   \n",
       "563        2008-11-16      20  Homer and Lisa Exchange Cross Words   \n",
       "466        2010-10-10      22                            MoneyBart   \n",
       "186        2011-12-04      23            The Ten-Per-Cent Solution   \n",
       "\n",
       "     us_viewers_in_millions    views  \n",
       "559                    9.72  48854.0  \n",
       "518                    2.32    190.0  \n",
       "563                    8.52  38879.0  \n",
       "466                    6.72  39073.0  \n",
       "186                    9.01  39002.0  "
      ]
     },
     "execution_count": 137,
     "metadata": {},
     "output_type": "execute_result"
    }
   ],
   "source": [
    "episodes.sample(5)"
   ]
  },
  {
   "cell_type": "code",
   "execution_count": 138,
   "metadata": {},
   "outputs": [],
   "source": [
    "episodes.original_air_date = pd.to_datetime(episodes.original_air_date)"
   ]
  },
  {
   "cell_type": "code",
   "execution_count": 142,
   "metadata": {},
   "outputs": [],
   "source": [
    "episodes.imdb_votes = episodes.imdb_votes.astype(int)\n",
    "episodes.views = episodes.views.astype(int)"
   ]
  }
 ],
 "metadata": {
  "kernelspec": {
   "display_name": "Python 3",
   "language": "python",
   "name": "python3"
  },
  "language_info": {
   "codemirror_mode": {
    "name": "ipython",
    "version": 3
   },
   "file_extension": ".py",
   "mimetype": "text/x-python",
   "name": "python",
   "nbconvert_exporter": "python",
   "pygments_lexer": "ipython3",
   "version": "3.7.0"
  }
 },
 "nbformat": 4,
 "nbformat_minor": 2
}
